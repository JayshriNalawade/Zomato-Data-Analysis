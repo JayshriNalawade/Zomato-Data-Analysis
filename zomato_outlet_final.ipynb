{
 "cells": [
  {
   "cell_type": "code",
   "execution_count": 2,
   "id": "7f29f46c",
   "metadata": {},
   "outputs": [],
   "source": [
    "import numpy as np\n",
    "import pandas as pd\n",
    "import seaborn as sns\n",
    "import matplotlib.pyplot as plt"
   ]
  },
  {
   "cell_type": "code",
   "execution_count": 3,
   "id": "862c284c",
   "metadata": {},
   "outputs": [],
   "source": [
    "df=pd.read_csv(\"zomato_outlet_final (11) (1).csv\")"
   ]
  },
  {
   "cell_type": "code",
   "execution_count": 4,
   "id": "83d18786",
   "metadata": {},
   "outputs": [
    {
     "data": {
      "text/html": [
       "<div>\n",
       "<style scoped>\n",
       "    .dataframe tbody tr th:only-of-type {\n",
       "        vertical-align: middle;\n",
       "    }\n",
       "\n",
       "    .dataframe tbody tr th {\n",
       "        vertical-align: top;\n",
       "    }\n",
       "\n",
       "    .dataframe thead th {\n",
       "        text-align: right;\n",
       "    }\n",
       "</style>\n",
       "<table border=\"1\" class=\"dataframe\">\n",
       "  <thead>\n",
       "    <tr style=\"text-align: right;\">\n",
       "      <th></th>\n",
       "      <th>link</th>\n",
       "      <th>rest_name</th>\n",
       "      <th>rest_type</th>\n",
       "      <th>loc</th>\n",
       "      <th>dine_rating</th>\n",
       "      <th>dine_reviews</th>\n",
       "      <th>delivery_rating</th>\n",
       "      <th>delivery_reviews</th>\n",
       "      <th>cuisine</th>\n",
       "      <th>Unnamed: 9</th>\n",
       "      <th>Cost (RS)</th>\n",
       "      <th>cost</th>\n",
       "      <th>liked</th>\n",
       "    </tr>\n",
       "  </thead>\n",
       "  <tbody>\n",
       "    <tr>\n",
       "      <th>0</th>\n",
       "      <td>https://www.zomato.com/pune/mix@36-the-westin-...</td>\n",
       "      <td>Mix@36 - The Westin\\r\\r\\n                     ...</td>\n",
       "      <td>Lounge</td>\n",
       "      <td>The Westin, Mundhwa</td>\n",
       "      <td>4.2</td>\n",
       "      <td>(707 Reviews)</td>\n",
       "      <td>NaN</td>\n",
       "      <td>NaN</td>\n",
       "      <td>North Indian,Continental,Asian,Finger Food,</td>\n",
       "      <td>NaN</td>\n",
       "      <td>4300</td>\n",
       "      <td>Rs. 4300</td>\n",
       "      <td>Cocktails, Chaat, Beer</td>\n",
       "    </tr>\n",
       "    <tr>\n",
       "      <th>1</th>\n",
       "      <td>https://www.zomato.com/pune/kangan-the-westin-...</td>\n",
       "      <td>Kangan - The Westin\\r\\r\\n                     ...</td>\n",
       "      <td>Fine Dining</td>\n",
       "      <td>The Westin, Mundhwa</td>\n",
       "      <td>4.1</td>\n",
       "      <td>(344 Reviews)</td>\n",
       "      <td>NaN</td>\n",
       "      <td>NaN</td>\n",
       "      <td>North Indian,Mughlai,</td>\n",
       "      <td>NaN</td>\n",
       "      <td>3500</td>\n",
       "      <td>Rs. 3500</td>\n",
       "      <td>Biryani, Veg Platter, Dal Makhani, Butter Chic...</td>\n",
       "    </tr>\n",
       "    <tr>\n",
       "      <th>2</th>\n",
       "      <td>https://www.zomato.com/pune/coriander-kitchen-...</td>\n",
       "      <td>Coriander Kitchen - Conrad Pune\\r\\r\\n         ...</td>\n",
       "      <td>Fine Dining</td>\n",
       "      <td>Conrad Pune, Bund Garden Road</td>\n",
       "      <td>4.5</td>\n",
       "      <td>(541 Reviews)</td>\n",
       "      <td>NaN</td>\n",
       "      <td>NaN</td>\n",
       "      <td>Mediterranean,Asian,North Indian,</td>\n",
       "      <td>NaN</td>\n",
       "      <td>3200</td>\n",
       "      <td>Rs. 3200</td>\n",
       "      <td>Pasta, Panipuri, Waffles, Pizza, Salad, Chaat,...</td>\n",
       "    </tr>\n",
       "    <tr>\n",
       "      <th>3</th>\n",
       "      <td>https://www.zomato.com/pune/the-market-the-wes...</td>\n",
       "      <td>The Market - The Westin\\r\\r\\n                 ...</td>\n",
       "      <td>Fine Dining</td>\n",
       "      <td>The Westin, Mundhwa</td>\n",
       "      <td>4.0</td>\n",
       "      <td>(55 Reviews)</td>\n",
       "      <td>NaN</td>\n",
       "      <td>NaN</td>\n",
       "      <td>Asian,European,North Indian,</td>\n",
       "      <td>NaN</td>\n",
       "      <td>3200</td>\n",
       "      <td>Rs. 3200</td>\n",
       "      <td>Vanilla Ice Cream, Chaat, Sushi</td>\n",
       "    </tr>\n",
       "    <tr>\n",
       "      <th>4</th>\n",
       "      <td>https://www.zomato.com/pune/vandaag-vivanta-pu...</td>\n",
       "      <td>Vandaag - Vivanta Pune\\r\\r\\n                  ...</td>\n",
       "      <td>Pub,Casual Dining</td>\n",
       "      <td>Vivanta Pune, Hinjewadi</td>\n",
       "      <td>3.9</td>\n",
       "      <td>(113 Reviews)</td>\n",
       "      <td>NaN</td>\n",
       "      <td>NaN</td>\n",
       "      <td>Finger Food,Continental,</td>\n",
       "      <td>NaN</td>\n",
       "      <td>3100</td>\n",
       "      <td>Rs. 3100</td>\n",
       "      <td>Cocktails, Beer, Peri Peri Chicken, Fish, Veg ...</td>\n",
       "    </tr>\n",
       "    <tr>\n",
       "      <th>...</th>\n",
       "      <td>...</td>\n",
       "      <td>...</td>\n",
       "      <td>...</td>\n",
       "      <td>...</td>\n",
       "      <td>...</td>\n",
       "      <td>...</td>\n",
       "      <td>...</td>\n",
       "      <td>...</td>\n",
       "      <td>...</td>\n",
       "      <td>...</td>\n",
       "      <td>...</td>\n",
       "      <td>...</td>\n",
       "      <td>...</td>\n",
       "    </tr>\n",
       "    <tr>\n",
       "      <th>5428</th>\n",
       "      <td>https://www.zomato.com/pune/murli-pure-veg-1-s...</td>\n",
       "      <td>Murli Pure Veg\\r\\n                            ...</td>\n",
       "      <td>Casual Dining</td>\n",
       "      <td>Sinhgad Road</td>\n",
       "      <td>3.1</td>\n",
       "      <td>-22</td>\n",
       "      <td>3.5</td>\n",
       "      <td>-253</td>\n",
       "      <td>South Indian,Chinese,North Indian,</td>\n",
       "      <td>NaN</td>\n",
       "      <td>550</td>\n",
       "      <td>Rs. 550</td>\n",
       "      <td>NaN</td>\n",
       "    </tr>\n",
       "    <tr>\n",
       "      <th>5429</th>\n",
       "      <td>https://www.zomato.com/pune/the-irani-cafe-res...</td>\n",
       "      <td>The Irani Cafe Restaurant\\r\\n                 ...</td>\n",
       "      <td>Casual Dining</td>\n",
       "      <td>Viman Nagar</td>\n",
       "      <td>2.9</td>\n",
       "      <td>(80 Reviews)</td>\n",
       "      <td>NaN</td>\n",
       "      <td>NaN</td>\n",
       "      <td>Mughlai,Iranian,</td>\n",
       "      <td>NaN</td>\n",
       "      <td>800</td>\n",
       "      <td>Rs. 800</td>\n",
       "      <td>Naan, Mutton Keema, Dum Biryani, Irani Chai, B...</td>\n",
       "    </tr>\n",
       "    <tr>\n",
       "      <th>5430</th>\n",
       "      <td>https://www.zomato.com/pune/hotel-shilpa-gavra...</td>\n",
       "      <td>Hotel Shilpa Gavran\\r\\n                       ...</td>\n",
       "      <td>Casual Dining</td>\n",
       "      <td>Pimpri</td>\n",
       "      <td>3.8</td>\n",
       "      <td>(90 Reviews)</td>\n",
       "      <td>NaN</td>\n",
       "      <td>NaN</td>\n",
       "      <td>Chinese,Fast Food,North Indian,</td>\n",
       "      <td>NaN</td>\n",
       "      <td>500</td>\n",
       "      <td>Rs. 500</td>\n",
       "      <td>Mutton Thali, Chicken Sukha</td>\n",
       "    </tr>\n",
       "    <tr>\n",
       "      <th>5431</th>\n",
       "      <td>https://www.zomato.com/pune/mh-12-pav-bhaji-ju...</td>\n",
       "      <td>MH 12 Pav Bhaji &amp; Juice Center\\r\\n            ...</td>\n",
       "      <td>Quick Bites</td>\n",
       "      <td>Sadashiv Peth</td>\n",
       "      <td>3.1</td>\n",
       "      <td>-24</td>\n",
       "      <td>3.1</td>\n",
       "      <td>-439</td>\n",
       "      <td>Beverages,Chinese,Street Food,Fast Food,</td>\n",
       "      <td>NaN</td>\n",
       "      <td>250</td>\n",
       "      <td>Rs. 250</td>\n",
       "      <td>NaN</td>\n",
       "    </tr>\n",
       "    <tr>\n",
       "      <th>5432</th>\n",
       "      <td>https://www.zomato.com/pune/liyo-china-bt-kawa...</td>\n",
       "      <td>Liyo China\\r\\n                                ...</td>\n",
       "      <td>Casual Dining</td>\n",
       "      <td>B.T. Kawade Road</td>\n",
       "      <td>3.6</td>\n",
       "      <td>-97</td>\n",
       "      <td>3.8</td>\n",
       "      <td>-365</td>\n",
       "      <td>Thai,Chinese,</td>\n",
       "      <td>NaN</td>\n",
       "      <td>500</td>\n",
       "      <td>Rs. 500</td>\n",
       "      <td>Noodle</td>\n",
       "    </tr>\n",
       "  </tbody>\n",
       "</table>\n",
       "<p>5433 rows × 13 columns</p>\n",
       "</div>"
      ],
      "text/plain": [
       "                                                   link  \\\n",
       "0     https://www.zomato.com/pune/mix@36-the-westin-...   \n",
       "1     https://www.zomato.com/pune/kangan-the-westin-...   \n",
       "2     https://www.zomato.com/pune/coriander-kitchen-...   \n",
       "3     https://www.zomato.com/pune/the-market-the-wes...   \n",
       "4     https://www.zomato.com/pune/vandaag-vivanta-pu...   \n",
       "...                                                 ...   \n",
       "5428  https://www.zomato.com/pune/murli-pure-veg-1-s...   \n",
       "5429  https://www.zomato.com/pune/the-irani-cafe-res...   \n",
       "5430  https://www.zomato.com/pune/hotel-shilpa-gavra...   \n",
       "5431  https://www.zomato.com/pune/mh-12-pav-bhaji-ju...   \n",
       "5432  https://www.zomato.com/pune/liyo-china-bt-kawa...   \n",
       "\n",
       "                                              rest_name          rest_type  \\\n",
       "0     Mix@36 - The Westin\\r\\r\\n                     ...             Lounge   \n",
       "1     Kangan - The Westin\\r\\r\\n                     ...        Fine Dining   \n",
       "2     Coriander Kitchen - Conrad Pune\\r\\r\\n         ...        Fine Dining   \n",
       "3     The Market - The Westin\\r\\r\\n                 ...        Fine Dining   \n",
       "4     Vandaag - Vivanta Pune\\r\\r\\n                  ...  Pub,Casual Dining   \n",
       "...                                                 ...                ...   \n",
       "5428  Murli Pure Veg\\r\\n                            ...      Casual Dining   \n",
       "5429  The Irani Cafe Restaurant\\r\\n                 ...      Casual Dining   \n",
       "5430  Hotel Shilpa Gavran\\r\\n                       ...      Casual Dining   \n",
       "5431  MH 12 Pav Bhaji & Juice Center\\r\\n            ...        Quick Bites   \n",
       "5432  Liyo China\\r\\n                                ...      Casual Dining   \n",
       "\n",
       "                                loc  dine_rating   dine_reviews  \\\n",
       "0               The Westin, Mundhwa          4.2  (707 Reviews)   \n",
       "1               The Westin, Mundhwa          4.1  (344 Reviews)   \n",
       "2     Conrad Pune, Bund Garden Road          4.5  (541 Reviews)   \n",
       "3               The Westin, Mundhwa          4.0   (55 Reviews)   \n",
       "4           Vivanta Pune, Hinjewadi          3.9  (113 Reviews)   \n",
       "...                             ...          ...            ...   \n",
       "5428                   Sinhgad Road          3.1            -22   \n",
       "5429                    Viman Nagar          2.9   (80 Reviews)   \n",
       "5430                         Pimpri          3.8   (90 Reviews)   \n",
       "5431                  Sadashiv Peth          3.1            -24   \n",
       "5432               B.T. Kawade Road          3.6            -97   \n",
       "\n",
       "      delivery_rating delivery_reviews  \\\n",
       "0                 NaN              NaN   \n",
       "1                 NaN              NaN   \n",
       "2                 NaN              NaN   \n",
       "3                 NaN              NaN   \n",
       "4                 NaN              NaN   \n",
       "...               ...              ...   \n",
       "5428              3.5             -253   \n",
       "5429              NaN              NaN   \n",
       "5430              NaN              NaN   \n",
       "5431              3.1             -439   \n",
       "5432              3.8             -365   \n",
       "\n",
       "                                          cuisine  Unnamed: 9  Cost (RS)  \\\n",
       "0     North Indian,Continental,Asian,Finger Food,         NaN       4300   \n",
       "1                           North Indian,Mughlai,         NaN       3500   \n",
       "2               Mediterranean,Asian,North Indian,         NaN       3200   \n",
       "3                    Asian,European,North Indian,         NaN       3200   \n",
       "4                        Finger Food,Continental,         NaN       3100   \n",
       "...                                           ...         ...        ...   \n",
       "5428           South Indian,Chinese,North Indian,         NaN        550   \n",
       "5429                             Mughlai,Iranian,         NaN        800   \n",
       "5430              Chinese,Fast Food,North Indian,         NaN        500   \n",
       "5431     Beverages,Chinese,Street Food,Fast Food,         NaN        250   \n",
       "5432                                Thai,Chinese,         NaN        500   \n",
       "\n",
       "          cost                                              liked  \n",
       "0     Rs. 4300                             Cocktails, Chaat, Beer  \n",
       "1     Rs. 3500  Biryani, Veg Platter, Dal Makhani, Butter Chic...  \n",
       "2     Rs. 3200  Pasta, Panipuri, Waffles, Pizza, Salad, Chaat,...  \n",
       "3     Rs. 3200                    Vanilla Ice Cream, Chaat, Sushi  \n",
       "4     Rs. 3100  Cocktails, Beer, Peri Peri Chicken, Fish, Veg ...  \n",
       "...        ...                                                ...  \n",
       "5428   Rs. 550                                                NaN  \n",
       "5429   Rs. 800  Naan, Mutton Keema, Dum Biryani, Irani Chai, B...  \n",
       "5430   Rs. 500                        Mutton Thali, Chicken Sukha  \n",
       "5431   Rs. 250                                                NaN  \n",
       "5432   Rs. 500                                             Noodle  \n",
       "\n",
       "[5433 rows x 13 columns]"
      ]
     },
     "execution_count": 4,
     "metadata": {},
     "output_type": "execute_result"
    }
   ],
   "source": [
    "df"
   ]
  },
  {
   "cell_type": "code",
   "execution_count": null,
   "id": "e509d58b",
   "metadata": {},
   "outputs": [],
   "source": []
  },
  {
   "cell_type": "code",
   "execution_count": 5,
   "id": "57e367ee",
   "metadata": {},
   "outputs": [
    {
     "data": {
      "text/plain": [
       "Index(['link', 'rest_name', 'rest_type', 'loc', 'dine_rating', 'dine_reviews',\n",
       "       'delivery_rating', 'delivery_reviews', 'cuisine', 'Unnamed: 9',\n",
       "       'Cost (RS)', 'cost', 'liked'],\n",
       "      dtype='object')"
      ]
     },
     "execution_count": 5,
     "metadata": {},
     "output_type": "execute_result"
    }
   ],
   "source": [
    "df.columns"
   ]
  },
  {
   "cell_type": "code",
   "execution_count": 6,
   "id": "25bf3105",
   "metadata": {},
   "outputs": [
    {
     "data": {
      "text/html": [
       "<div>\n",
       "<style scoped>\n",
       "    .dataframe tbody tr th:only-of-type {\n",
       "        vertical-align: middle;\n",
       "    }\n",
       "\n",
       "    .dataframe tbody tr th {\n",
       "        vertical-align: top;\n",
       "    }\n",
       "\n",
       "    .dataframe thead th {\n",
       "        text-align: right;\n",
       "    }\n",
       "</style>\n",
       "<table border=\"1\" class=\"dataframe\">\n",
       "  <thead>\n",
       "    <tr style=\"text-align: right;\">\n",
       "      <th></th>\n",
       "      <th>rest_name</th>\n",
       "      <th>rest_type</th>\n",
       "      <th>loc</th>\n",
       "      <th>dine_rating</th>\n",
       "      <th>dine_reviews</th>\n",
       "      <th>delivery_rating</th>\n",
       "      <th>delivery_reviews</th>\n",
       "      <th>cuisine</th>\n",
       "      <th>Cost (RS)</th>\n",
       "      <th>cost</th>\n",
       "      <th>liked</th>\n",
       "    </tr>\n",
       "  </thead>\n",
       "  <tbody>\n",
       "    <tr>\n",
       "      <th>0</th>\n",
       "      <td>Mix@36 - The Westin\\r\\r\\n                     ...</td>\n",
       "      <td>Lounge</td>\n",
       "      <td>The Westin, Mundhwa</td>\n",
       "      <td>4.2</td>\n",
       "      <td>(707 Reviews)</td>\n",
       "      <td>NaN</td>\n",
       "      <td>NaN</td>\n",
       "      <td>North Indian,Continental,Asian,Finger Food,</td>\n",
       "      <td>4300</td>\n",
       "      <td>Rs. 4300</td>\n",
       "      <td>Cocktails, Chaat, Beer</td>\n",
       "    </tr>\n",
       "    <tr>\n",
       "      <th>1</th>\n",
       "      <td>Kangan - The Westin\\r\\r\\n                     ...</td>\n",
       "      <td>Fine Dining</td>\n",
       "      <td>The Westin, Mundhwa</td>\n",
       "      <td>4.1</td>\n",
       "      <td>(344 Reviews)</td>\n",
       "      <td>NaN</td>\n",
       "      <td>NaN</td>\n",
       "      <td>North Indian,Mughlai,</td>\n",
       "      <td>3500</td>\n",
       "      <td>Rs. 3500</td>\n",
       "      <td>Biryani, Veg Platter, Dal Makhani, Butter Chic...</td>\n",
       "    </tr>\n",
       "    <tr>\n",
       "      <th>2</th>\n",
       "      <td>Coriander Kitchen - Conrad Pune\\r\\r\\n         ...</td>\n",
       "      <td>Fine Dining</td>\n",
       "      <td>Conrad Pune, Bund Garden Road</td>\n",
       "      <td>4.5</td>\n",
       "      <td>(541 Reviews)</td>\n",
       "      <td>NaN</td>\n",
       "      <td>NaN</td>\n",
       "      <td>Mediterranean,Asian,North Indian,</td>\n",
       "      <td>3200</td>\n",
       "      <td>Rs. 3200</td>\n",
       "      <td>Pasta, Panipuri, Waffles, Pizza, Salad, Chaat,...</td>\n",
       "    </tr>\n",
       "    <tr>\n",
       "      <th>3</th>\n",
       "      <td>The Market - The Westin\\r\\r\\n                 ...</td>\n",
       "      <td>Fine Dining</td>\n",
       "      <td>The Westin, Mundhwa</td>\n",
       "      <td>4.0</td>\n",
       "      <td>(55 Reviews)</td>\n",
       "      <td>NaN</td>\n",
       "      <td>NaN</td>\n",
       "      <td>Asian,European,North Indian,</td>\n",
       "      <td>3200</td>\n",
       "      <td>Rs. 3200</td>\n",
       "      <td>Vanilla Ice Cream, Chaat, Sushi</td>\n",
       "    </tr>\n",
       "    <tr>\n",
       "      <th>4</th>\n",
       "      <td>Vandaag - Vivanta Pune\\r\\r\\n                  ...</td>\n",
       "      <td>Pub,Casual Dining</td>\n",
       "      <td>Vivanta Pune, Hinjewadi</td>\n",
       "      <td>3.9</td>\n",
       "      <td>(113 Reviews)</td>\n",
       "      <td>NaN</td>\n",
       "      <td>NaN</td>\n",
       "      <td>Finger Food,Continental,</td>\n",
       "      <td>3100</td>\n",
       "      <td>Rs. 3100</td>\n",
       "      <td>Cocktails, Beer, Peri Peri Chicken, Fish, Veg ...</td>\n",
       "    </tr>\n",
       "  </tbody>\n",
       "</table>\n",
       "</div>"
      ],
      "text/plain": [
       "                                           rest_name          rest_type  \\\n",
       "0  Mix@36 - The Westin\\r\\r\\n                     ...             Lounge   \n",
       "1  Kangan - The Westin\\r\\r\\n                     ...        Fine Dining   \n",
       "2  Coriander Kitchen - Conrad Pune\\r\\r\\n         ...        Fine Dining   \n",
       "3  The Market - The Westin\\r\\r\\n                 ...        Fine Dining   \n",
       "4  Vandaag - Vivanta Pune\\r\\r\\n                  ...  Pub,Casual Dining   \n",
       "\n",
       "                             loc  dine_rating   dine_reviews  delivery_rating  \\\n",
       "0            The Westin, Mundhwa          4.2  (707 Reviews)              NaN   \n",
       "1            The Westin, Mundhwa          4.1  (344 Reviews)              NaN   \n",
       "2  Conrad Pune, Bund Garden Road          4.5  (541 Reviews)              NaN   \n",
       "3            The Westin, Mundhwa          4.0   (55 Reviews)              NaN   \n",
       "4        Vivanta Pune, Hinjewadi          3.9  (113 Reviews)              NaN   \n",
       "\n",
       "  delivery_reviews                                      cuisine  Cost (RS)  \\\n",
       "0              NaN  North Indian,Continental,Asian,Finger Food,       4300   \n",
       "1              NaN                        North Indian,Mughlai,       3500   \n",
       "2              NaN            Mediterranean,Asian,North Indian,       3200   \n",
       "3              NaN                 Asian,European,North Indian,       3200   \n",
       "4              NaN                     Finger Food,Continental,       3100   \n",
       "\n",
       "       cost                                              liked  \n",
       "0  Rs. 4300                             Cocktails, Chaat, Beer  \n",
       "1  Rs. 3500  Biryani, Veg Platter, Dal Makhani, Butter Chic...  \n",
       "2  Rs. 3200  Pasta, Panipuri, Waffles, Pizza, Salad, Chaat,...  \n",
       "3  Rs. 3200                    Vanilla Ice Cream, Chaat, Sushi  \n",
       "4  Rs. 3100  Cocktails, Beer, Peri Peri Chicken, Fish, Veg ...  "
      ]
     },
     "execution_count": 6,
     "metadata": {},
     "output_type": "execute_result"
    }
   ],
   "source": [
    "\n",
    "\n",
    "df=df.drop(['link','Unnamed: 9'],axis=1)\n",
    "df.head()\n",
    "\n"
   ]
  },
  {
   "cell_type": "code",
   "execution_count": 7,
   "id": "9f17046d",
   "metadata": {},
   "outputs": [
    {
     "data": {
      "text/plain": [
       "(5183, 11)"
      ]
     },
     "execution_count": 7,
     "metadata": {},
     "output_type": "execute_result"
    }
   ],
   "source": [
    "df.duplicated().sum()\n",
    "df=df.drop_duplicates()\n",
    "df.shape"
   ]
  },
  {
   "cell_type": "code",
   "execution_count": 8,
   "id": "08de2d65",
   "metadata": {},
   "outputs": [
    {
     "data": {
      "text/plain": [
       "(5183, 11)"
      ]
     },
     "execution_count": 8,
     "metadata": {},
     "output_type": "execute_result"
    }
   ],
   "source": [
    "df.shape"
   ]
  },
  {
   "cell_type": "code",
   "execution_count": 9,
   "id": "11bc51ee",
   "metadata": {},
   "outputs": [
    {
     "data": {
      "text/plain": [
       "Text(0, 0.5, 'count of resturant')"
      ]
     },
     "execution_count": 9,
     "metadata": {},
     "output_type": "execute_result"
    },
    {
     "data": {
      "image/png": "[encoded data removed]",
      "text/plain": [
       "<Figure size 432x288 with 1 Axes>"
      ]
     },
     "metadata": {
      "needs_background": "light"
     },
     "output_type": "display_data"
    }
   ],
   "source": [
    "df.hist('dine_rating')\n",
    "plt.xlabel('dine_rating')\n",
    "plt.ylabel(\"count of resturant\")\n",
    "#sns.distplot(df['dine_rating'])"
   ]
  },
  {
   "cell_type": "code",
   "execution_count": 10,
   "id": "99e0e225",
   "metadata": {},
   "outputs": [
    {
     "name": "stderr",
     "output_type": "stream",
     "text": [
      "C:\\Users\\ADMIN\\anaconda3\\lib\\site-packages\\seaborn\\distributions.py:2619: FutureWarning: `distplot` is a deprecated function and will be removed in a future version. Please adapt your code to use either `displot` (a figure-level function with similar flexibility) or `histplot` (an axes-level function for histograms).\n",
      "  warnings.warn(msg, FutureWarning)\n"
     ]
    },
    {
     "data": {
      "text/plain": [
       "<AxesSubplot:xlabel='dine_rating', ylabel='count of resturant'>"
      ]
     },
     "execution_count": 10,
     "metadata": {},
     "output_type": "execute_result"
    },
    {
     "data": {
      "image/png": "[encoded data removed]",
      "text/plain": [
       "<Figure size 432x288 with 1 Axes>"
      ]
     },
     "metadata": {
      "needs_background": "light"
     },
     "output_type": "display_data"
    }
   ],
   "source": [
    "plt.hist(df['dine_rating'])\n",
    "plt.xlabel('dine_rating')\n",
    "plt.ylabel(\"count of resturant\")\n",
    "sns.distplot(df['dine_rating'])"
   ]
  },
  {
   "cell_type": "code",
   "execution_count": 11,
   "id": "19add4fd",
   "metadata": {},
   "outputs": [],
   "source": [
    "#observations\n",
    "#1)approximate 100 count of resturant have dine_rating between "
   ]
  },
  {
   "cell_type": "code",
   "execution_count": 12,
   "id": "770ea4b6",
   "metadata": {},
   "outputs": [],
   "source": [
    "#sns.plot   dine_rating  histogram \n",
    "#ds.plot    cost_rating   pdf, rest time"
   ]
  },
  {
   "cell_type": "code",
   "execution_count": 13,
   "id": "837191cb",
   "metadata": {},
   "outputs": [
    {
     "data": {
      "text/plain": [
       "(array([2.717e+03, 1.404e+03, 5.750e+02, 3.060e+02, 1.200e+02, 3.400e+01,\n",
       "        2.000e+01, 5.000e+00, 1.000e+00, 1.000e+00]),\n",
       " array([  50.,  475.,  900., 1325., 1750., 2175., 2600., 3025., 3450.,\n",
       "        3875., 4300.]),\n",
       " <BarContainer object of 10 artists>)"
      ]
     },
     "execution_count": 13,
     "metadata": {},
     "output_type": "execute_result"
    },
    {
     "data": {
      "image/png": "[encoded data removed]",
      "text/plain": [
       "<Figure size 432x288 with 1 Axes>"
      ]
     },
     "metadata": {
      "needs_background": "light"
     },
     "output_type": "display_data"
    }
   ],
   "source": [
    "plt.hist(df['Cost (RS)'])"
   ]
  },
  {
   "cell_type": "code",
   "execution_count": 14,
   "id": "535662a1",
   "metadata": {},
   "outputs": [
    {
     "name": "stderr",
     "output_type": "stream",
     "text": [
      "C:\\Users\\ADMIN\\anaconda3\\lib\\site-packages\\seaborn\\distributions.py:2619: FutureWarning: `distplot` is a deprecated function and will be removed in a future version. Please adapt your code to use either `displot` (a figure-level function with similar flexibility) or `histplot` (an axes-level function for histograms).\n",
      "  warnings.warn(msg, FutureWarning)\n"
     ]
    },
    {
     "data": {
      "text/plain": [
       "<AxesSubplot:xlabel='Cost (RS)', ylabel='Density'>"
      ]
     },
     "execution_count": 14,
     "metadata": {},
     "output_type": "execute_result"
    },
    {
     "data": {
      "image/png": "[encoded data removed]",
      "text/plain": [
       "<Figure size 432x288 with 1 Axes>"
      ]
     },
     "metadata": {
      "needs_background": "light"
     },
     "output_type": "display_data"
    }
   ],
   "source": [
    "sns.distplot(df['Cost (RS)'])"
   ]
  },
  {
   "cell_type": "code",
   "execution_count": 15,
   "id": "ca20439e",
   "metadata": {},
   "outputs": [
    {
     "data": {
      "text/plain": [
       "Quick Bites                   1467\n",
       "Casual Dining                  911\n",
       "Bakery                         329\n",
       "Dessert Parlor                 308\n",
       "Casual Dining,Bar              241\n",
       "                              ... \n",
       "Casual Dining,Bakery             1\n",
       "Kiosk,Quick Bites                1\n",
       "Dhaba,Bar                        1\n",
       "Microbrewery,Casual Dining       1\n",
       "Paan Shop                        1\n",
       "Name: rest_type, Length: 66, dtype: int64"
      ]
     },
     "execution_count": 15,
     "metadata": {},
     "output_type": "execute_result"
    }
   ],
   "source": [
    "df['rest_type'].value_counts()"
   ]
  },
  {
   "cell_type": "code",
   "execution_count": null,
   "id": "2609dfa6",
   "metadata": {},
   "outputs": [],
   "source": []
  },
  {
   "cell_type": "code",
   "execution_count": 16,
   "id": "aed89371",
   "metadata": {},
   "outputs": [
    {
     "data": {
      "text/plain": [
       "0"
      ]
     },
     "execution_count": 16,
     "metadata": {},
     "output_type": "execute_result"
    }
   ],
   "source": [
    "df.duplicated().sum()"
   ]
  },
  {
   "cell_type": "code",
   "execution_count": 17,
   "id": "77c6a83d",
   "metadata": {},
   "outputs": [
    {
     "data": {
      "text/plain": [
       "(5183, 11)"
      ]
     },
     "execution_count": 17,
     "metadata": {},
     "output_type": "execute_result"
    }
   ],
   "source": [
    "#we have 250 duplicates\n",
    "df.duplicated().sum()\n",
    "df=df.drop_duplicates()\n",
    "df.shape"
   ]
  },
  {
   "cell_type": "code",
   "execution_count": 18,
   "id": "878721a9",
   "metadata": {},
   "outputs": [
    {
     "name": "stdout",
     "output_type": "stream",
     "text": [
      "67\n"
     ]
    }
   ],
   "source": [
    "print(len(df['rest_type'].unique()))   #print(df['rest_type'].unique())"
   ]
  },
  {
   "cell_type": "code",
   "execution_count": 19,
   "id": "c0d98b2e",
   "metadata": {},
   "outputs": [
    {
     "data": {
      "text/plain": [
       "Quick Bites                   1467\n",
       "Casual Dining                  911\n",
       "Bakery                         329\n",
       "Dessert Parlor                 308\n",
       "Casual Dining,Bar              241\n",
       "                              ... \n",
       "Casual Dining,Bakery             1\n",
       "Kiosk,Quick Bites                1\n",
       "Dhaba,Bar                        1\n",
       "Microbrewery,Casual Dining       1\n",
       "Paan Shop                        1\n",
       "Name: rest_type, Length: 66, dtype: int64"
      ]
     },
     "execution_count": 19,
     "metadata": {},
     "output_type": "execute_result"
    }
   ],
   "source": [
    "df['rest_type'].value_counts()"
   ]
  },
  {
   "cell_type": "code",
   "execution_count": 20,
   "id": "5e83293d",
   "metadata": {},
   "outputs": [
    {
     "name": "stdout",
     "output_type": "stream",
     "text": [
      "Quick Bites              1467\n",
      "Casual Dining             911\n",
      "Bakery                    329\n",
      "Dessert Parlor            308\n",
      "Casual Dining,Bar         241\n",
      "Café                      204\n",
      "Bar,Casual Dining         126\n",
      "Bakery,Dessert Parlor      69\n",
      "Sweet Shop                 54\n",
      "Beverage Shop              54\n",
      "Name: rest_type, dtype: int64\n"
     ]
    }
   ],
   "source": [
    "#how many types of resta are there?\n",
    "rest_type_values=df['rest_type'].value_counts()[:10]\n",
    "print(rest_type_values)"
   ]
  },
  {
   "cell_type": "code",
   "execution_count": 21,
   "id": "fd39d1fe",
   "metadata": {
    "scrolled": true
   },
   "outputs": [
    {
     "name": "stderr",
     "output_type": "stream",
     "text": [
      "C:\\Users\\ADMIN\\anaconda3\\lib\\site-packages\\seaborn\\_decorators.py:36: FutureWarning: Pass the following variables as keyword args: x, y. From version 0.12, the only valid positional argument will be `data`, and passing other arguments without an explicit keyword will result in an error or misinterpretation.\n",
      "  warnings.warn(\n"
     ]
    },
    {
     "data": {
      "text/plain": [
       "<AxesSubplot:xlabel='rest_type'>"
      ]
     },
     "execution_count": 21,
     "metadata": {},
     "output_type": "execute_result"
    },
    {
     "data": {
      "image/png": "[encoded data removed]",
      "text/plain": [
       "<Figure size 1080x576 with 1 Axes>"
      ]
     },
     "metadata": {
      "needs_background": "light"
     },
     "output_type": "display_data"
    }
   ],
   "source": [
    "plt.figure(figsize=(15,8))\n",
    "sns.barplot(rest_type_values,rest_type_values.index)"
   ]
  },
  {
   "cell_type": "code",
   "execution_count": 22,
   "id": "72834017",
   "metadata": {},
   "outputs": [
    {
     "data": {
      "text/plain": [
       "Desserts,Bakery,                                            190\n",
       "Bakery,                                                     171\n",
       "Desserts,Ice Cream,                                         119\n",
       "Chinese,North Indian,                                       114\n",
       "Street Food,                                                106\n",
       "                                                           ... \n",
       "Beverages,Desserts,Chinese,Seafood,Mughlai,North Indian,      1\n",
       "Lebanese,Kebab,Biryani,                                       1\n",
       "Chinese,Thai,Asian,                                           1\n",
       "Beverages,North Indian,Kebab,Biryani,                         1\n",
       "Beverages,Chinese,Street Food,Fast Food,                      1\n",
       "Name: cuisine, Length: 1427, dtype: int64"
      ]
     },
     "execution_count": 22,
     "metadata": {},
     "output_type": "execute_result"
    }
   ],
   "source": [
    "df['cuisine'].value_counts()"
   ]
  },
  {
   "cell_type": "code",
   "execution_count": 23,
   "id": "3353d6f1",
   "metadata": {},
   "outputs": [
    {
     "name": "stdout",
     "output_type": "stream",
     "text": [
      "Desserts,Bakery,              190\n",
      "Bakery,                       171\n",
      "Desserts,Ice Cream,           119\n",
      "Chinese,North Indian,         114\n",
      "Street Food,                  106\n",
      "North Indian,                 102\n",
      "Chinese,                      101\n",
      "Fast Food,Desserts,Bakery,     76\n",
      "Italian,Pizza,                 70\n",
      "Maharashtrian,                 68\n",
      "Name: cuisine, dtype: int64\n"
     ]
    }
   ],
   "source": [
    "cuisine_values=df['cuisine'].value_counts()[:10]\n",
    "print(cuisine_values)"
   ]
  },
  {
   "cell_type": "code",
   "execution_count": 27,
   "id": "15c27a99",
   "metadata": {},
   "outputs": [
    {
     "name": "stderr",
     "output_type": "stream",
     "text": [
      "C:\\Users\\ADMIN\\anaconda3\\lib\\site-packages\\seaborn\\_decorators.py:36: FutureWarning: Pass the following variables as keyword args: x, y. From version 0.12, the only valid positional argument will be `data`, and passing other arguments without an explicit keyword will result in an error or misinterpretation.\n",
      "  warnings.warn(\n"
     ]
    },
    {
     "data": {
      "text/plain": [
       "<AxesSubplot:xlabel='cuisine'>"
      ]
     },
     "execution_count": 27,
     "metadata": {},
     "output_type": "execute_result"
    },
    {
     "data": {
      "image/png": "[encoded data removed]",
      "text/plain": [
       "<Figure size 1080x576 with 1 Axes>"
      ]
     },
     "metadata": {
      "needs_background": "light"
     },
     "output_type": "display_data"
    }
   ],
   "source": [
    "plt.figure(figsize=(15,8))\n",
    "sns.barplot(cuisine_values,cuisine_values.index)"
   ]
  },
  {
   "cell_type": "code",
   "execution_count": 25,
   "id": "8c6a233c",
   "metadata": {},
   "outputs": [
    {
     "name": "stdout",
     "output_type": "stream",
     "text": [
      "Kothrud        264\n",
      "Wakad          225\n",
      "Viman Nagar    224\n",
      "Baner          219\n",
      "Hinjawadi      213\n",
      "Name: loc, dtype: int64\n"
     ]
    }
   ],
   "source": [
    "loc_values=df['loc'].value_counts()[:5]\n",
    "print(loc_values)"
   ]
  },
  {
   "cell_type": "code",
   "execution_count": 26,
   "id": "9dca1b09",
   "metadata": {},
   "outputs": [],
   "source": [
    "#df_categorical=df['rest_name','rest_type','loc','cuisine','liked','dilivery_rating','dine_Rating']\n",
    "#df_numerical=df['Cost (RS)']"
   ]
  },
  {
   "cell_type": "code",
   "execution_count": 26,
   "id": "68c5e89a",
   "metadata": {},
   "outputs": [
    {
     "data": {
      "text/plain": [
       "300     759\n",
       "400     624\n",
       "500     525\n",
       "200     352\n",
       "600     321\n",
       "350     313\n",
       "250     217\n",
       "150     198\n",
       "700     185\n",
       "1200    176\n",
       "1000    172\n",
       "550     170\n",
       "450     150\n",
       "1500    140\n",
       "800     133\n",
       "1300    102\n",
       "100     102\n",
       "1100     71\n",
       "1600     64\n",
       "2000     63\n",
       "1400     63\n",
       "900      43\n",
       "1800     42\n",
       "1700     37\n",
       "650      37\n",
       "750      26\n",
       "2500     17\n",
       "3000     12\n",
       "2200      9\n",
       "2100      9\n",
       "2300      6\n",
       "950       6\n",
       "850       6\n",
       "3200      4\n",
       "1900      4\n",
       "2900      3\n",
       "2600      3\n",
       "2400      2\n",
       "2700      2\n",
       "1050      2\n",
       "1150      2\n",
       "1950      2\n",
       "50        2\n",
       "499       1\n",
       "4300      1\n",
       "1250      1\n",
       "3500      1\n",
       "1650      1\n",
       "3100      1\n",
       "1350      1\n",
       "Name: Cost (RS), dtype: int64"
      ]
     },
     "execution_count": 26,
     "metadata": {},
     "output_type": "execute_result"
    }
   ],
   "source": [
    "df['Cost (RS)'].value_counts()"
   ]
  },
  {
   "cell_type": "code",
   "execution_count": 27,
   "id": "07c6065d",
   "metadata": {},
   "outputs": [
    {
     "data": {
      "text/plain": [
       "3.9    446\n",
       "3.8    280\n",
       "4.0    242\n",
       "4.1    227\n",
       "3.7    212\n",
       "4.2    172\n",
       "3.6    164\n",
       "3.5    123\n",
       "4.3     96\n",
       "3.4     90\n",
       "3.3     88\n",
       "4.4     58\n",
       "3.2     58\n",
       "3.1     37\n",
       "4.5     36\n",
       "3.0     24\n",
       "4.6     18\n",
       "2.9     13\n",
       "2.7      7\n",
       "2.6      6\n",
       "2.8      6\n",
       "4.7      3\n",
       "4.8      1\n",
       "2.0      1\n",
       "2.2      1\n",
       "Name: delivery_rating, dtype: int64"
      ]
     },
     "execution_count": 27,
     "metadata": {},
     "output_type": "execute_result"
    }
   ],
   "source": [
    "df['delivery_rating'].value_counts()"
   ]
  },
  {
   "cell_type": "code",
   "execution_count": 28,
   "id": "6de72591",
   "metadata": {},
   "outputs": [
    {
     "data": {
      "text/plain": [
       "0.0    566\n",
       "3.9    495\n",
       "3.8    384\n",
       "4.0    375\n",
       "3.7    345\n",
       "3.6    326\n",
       "4.1    309\n",
       "4.2    270\n",
       "3.5    270\n",
       "3.4    241\n",
       "3.3    200\n",
       "3.1    195\n",
       "3.2    178\n",
       "4.3    171\n",
       "3.0    144\n",
       "2.9    124\n",
       "4.4    102\n",
       "2.8     92\n",
       "4.5     84\n",
       "2.7     73\n",
       "2.6     60\n",
       "4.6     44\n",
       "2.5     35\n",
       "2.4     22\n",
       "4.7     16\n",
       "2.3     16\n",
       "4.8     12\n",
       "2.0     11\n",
       "4.9     10\n",
       "2.2     10\n",
       "2.1      3\n",
       "Name: dine_rating, dtype: int64"
      ]
     },
     "execution_count": 28,
     "metadata": {},
     "output_type": "execute_result"
    }
   ],
   "source": [
    "df['dine_rating'].value_counts()"
   ]
  },
  {
   "cell_type": "code",
   "execution_count": 29,
   "id": "f2f7a8f6",
   "metadata": {},
   "outputs": [
    {
     "data": {
      "text/plain": [
       "300     759\n",
       "400     624\n",
       "500     525\n",
       "200     352\n",
       "600     321\n",
       "350     313\n",
       "250     217\n",
       "150     198\n",
       "700     185\n",
       "1200    176\n",
       "1000    172\n",
       "550     170\n",
       "450     150\n",
       "1500    140\n",
       "800     133\n",
       "1300    102\n",
       "100     102\n",
       "1100     71\n",
       "1600     64\n",
       "2000     63\n",
       "1400     63\n",
       "900      43\n",
       "1800     42\n",
       "1700     37\n",
       "650      37\n",
       "750      26\n",
       "2500     17\n",
       "3000     12\n",
       "2200      9\n",
       "2100      9\n",
       "2300      6\n",
       "950       6\n",
       "850       6\n",
       "3200      4\n",
       "1900      4\n",
       "2900      3\n",
       "2600      3\n",
       "2400      2\n",
       "2700      2\n",
       "1050      2\n",
       "1150      2\n",
       "1950      2\n",
       "50        2\n",
       "499       1\n",
       "4300      1\n",
       "1250      1\n",
       "3500      1\n",
       "1650      1\n",
       "3100      1\n",
       "1350      1\n",
       "Name: Cost (RS), dtype: int64"
      ]
     },
     "execution_count": 29,
     "metadata": {},
     "output_type": "execute_result"
    }
   ],
   "source": [
    "df['Cost (RS)'].value_counts()"
   ]
  },
  {
   "cell_type": "code",
   "execution_count": 30,
   "id": "a819e481",
   "metadata": {},
   "outputs": [
    {
     "data": {
      "text/plain": [
       "3.9    446\n",
       "3.8    280\n",
       "4.0    242\n",
       "4.1    227\n",
       "3.7    212\n",
       "4.2    172\n",
       "3.6    164\n",
       "3.5    123\n",
       "4.3     96\n",
       "3.4     90\n",
       "3.3     88\n",
       "4.4     58\n",
       "3.2     58\n",
       "3.1     37\n",
       "4.5     36\n",
       "3.0     24\n",
       "4.6     18\n",
       "2.9     13\n",
       "2.7      7\n",
       "2.6      6\n",
       "2.8      6\n",
       "4.7      3\n",
       "4.8      1\n",
       "2.0      1\n",
       "2.2      1\n",
       "Name: delivery_rating, dtype: int64"
      ]
     },
     "execution_count": 30,
     "metadata": {},
     "output_type": "execute_result"
    }
   ],
   "source": [
    "df['delivery_rating'].value_counts()"
   ]
  },
  {
   "cell_type": "code",
   "execution_count": 29,
   "id": "f5bb552a",
   "metadata": {},
   "outputs": [
    {
     "ename": "NameError",
     "evalue": "name 'a' is not defined",
     "output_type": "error",
     "traceback": [
      "\u001b[1;31m---------------------------------------------------------------------------\u001b[0m",
      "\u001b[1;31mNameError\u001b[0m                                 Traceback (most recent call last)",
      "\u001b[1;32m~\\AppData\\Local\\Temp/ipykernel_1480/3279046458.py\u001b[0m in \u001b[0;36m<module>\u001b[1;34m\u001b[0m\n\u001b[1;32m----> 1\u001b[1;33m \u001b[0msns\u001b[0m\u001b[1;33m.\u001b[0m\u001b[0mbarplot\u001b[0m\u001b[1;33m(\u001b[0m\u001b[0ma\u001b[0m\u001b[1;33m.\u001b[0m\u001b[0mindex\u001b[0m\u001b[1;33m,\u001b[0m\u001b[0ma\u001b[0m\u001b[1;33m)\u001b[0m\u001b[1;33m\u001b[0m\u001b[1;33m\u001b[0m\u001b[0m\n\u001b[0m",
      "\u001b[1;31mNameError\u001b[0m: name 'a' is not defined"
     ]
    }
   ],
   "source": [
    "sns.barplot(a.index,a)"
   ]
  },
  {
   "cell_type": "code",
   "execution_count": 46,
   "id": "de3ed1a1",
   "metadata": {},
   "outputs": [
    {
     "data": {
      "text/html": [
       "<div>\n",
       "<style scoped>\n",
       "    .dataframe tbody tr th:only-of-type {\n",
       "        vertical-align: middle;\n",
       "    }\n",
       "\n",
       "    .dataframe tbody tr th {\n",
       "        vertical-align: top;\n",
       "    }\n",
       "\n",
       "    .dataframe thead th {\n",
       "        text-align: right;\n",
       "    }\n",
       "</style>\n",
       "<table border=\"1\" class=\"dataframe\">\n",
       "  <thead>\n",
       "    <tr style=\"text-align: right;\">\n",
       "      <th></th>\n",
       "      <th>cuisine</th>\n",
       "      <th>rest_name</th>\n",
       "    </tr>\n",
       "  </thead>\n",
       "  <tbody>\n",
       "    <tr>\n",
       "      <th>0</th>\n",
       "      <td>North Indian,Continental,Asian,Finger Food,</td>\n",
       "      <td>Mix@36 - The Westin\\r\\r\\n                     ...</td>\n",
       "    </tr>\n",
       "    <tr>\n",
       "      <th>1</th>\n",
       "      <td>North Indian,Mughlai,</td>\n",
       "      <td>Kangan - The Westin\\r\\r\\n                     ...</td>\n",
       "    </tr>\n",
       "    <tr>\n",
       "      <th>2</th>\n",
       "      <td>Mediterranean,Asian,North Indian,</td>\n",
       "      <td>Coriander Kitchen - Conrad Pune\\r\\r\\n         ...</td>\n",
       "    </tr>\n",
       "    <tr>\n",
       "      <th>3</th>\n",
       "      <td>Asian,European,North Indian,</td>\n",
       "      <td>The Market - The Westin\\r\\r\\n                 ...</td>\n",
       "    </tr>\n",
       "    <tr>\n",
       "      <th>4</th>\n",
       "      <td>Finger Food,Continental,</td>\n",
       "      <td>Vandaag - Vivanta Pune\\r\\r\\n                  ...</td>\n",
       "    </tr>\n",
       "    <tr>\n",
       "      <th>...</th>\n",
       "      <td>...</td>\n",
       "      <td>...</td>\n",
       "    </tr>\n",
       "    <tr>\n",
       "      <th>5428</th>\n",
       "      <td>South Indian,Chinese,North Indian,</td>\n",
       "      <td>Murli Pure Veg\\r\\n                            ...</td>\n",
       "    </tr>\n",
       "    <tr>\n",
       "      <th>5429</th>\n",
       "      <td>Mughlai,Iranian,</td>\n",
       "      <td>The Irani Cafe Restaurant\\r\\n                 ...</td>\n",
       "    </tr>\n",
       "    <tr>\n",
       "      <th>5430</th>\n",
       "      <td>Chinese,Fast Food,North Indian,</td>\n",
       "      <td>Hotel Shilpa Gavran\\r\\n                       ...</td>\n",
       "    </tr>\n",
       "    <tr>\n",
       "      <th>5431</th>\n",
       "      <td>Beverages,Chinese,Street Food,Fast Food,</td>\n",
       "      <td>MH 12 Pav Bhaji &amp; Juice Center\\r\\n            ...</td>\n",
       "    </tr>\n",
       "    <tr>\n",
       "      <th>5432</th>\n",
       "      <td>Thai,Chinese,</td>\n",
       "      <td>Liyo China\\r\\n                                ...</td>\n",
       "    </tr>\n",
       "  </tbody>\n",
       "</table>\n",
       "<p>5183 rows × 2 columns</p>\n",
       "</div>"
      ],
      "text/plain": [
       "                                          cuisine  \\\n",
       "0     North Indian,Continental,Asian,Finger Food,   \n",
       "1                           North Indian,Mughlai,   \n",
       "2               Mediterranean,Asian,North Indian,   \n",
       "3                    Asian,European,North Indian,   \n",
       "4                        Finger Food,Continental,   \n",
       "...                                           ...   \n",
       "5428           South Indian,Chinese,North Indian,   \n",
       "5429                             Mughlai,Iranian,   \n",
       "5430              Chinese,Fast Food,North Indian,   \n",
       "5431     Beverages,Chinese,Street Food,Fast Food,   \n",
       "5432                                Thai,Chinese,   \n",
       "\n",
       "                                              rest_name  \n",
       "0     Mix@36 - The Westin\\r\\r\\n                     ...  \n",
       "1     Kangan - The Westin\\r\\r\\n                     ...  \n",
       "2     Coriander Kitchen - Conrad Pune\\r\\r\\n         ...  \n",
       "3     The Market - The Westin\\r\\r\\n                 ...  \n",
       "4     Vandaag - Vivanta Pune\\r\\r\\n                  ...  \n",
       "...                                                 ...  \n",
       "5428  Murli Pure Veg\\r\\n                            ...  \n",
       "5429  The Irani Cafe Restaurant\\r\\n                 ...  \n",
       "5430  Hotel Shilpa Gavran\\r\\n                       ...  \n",
       "5431  MH 12 Pav Bhaji & Juice Center\\r\\n            ...  \n",
       "5432  Liyo China\\r\\n                                ...  \n",
       "\n",
       "[5183 rows x 2 columns]"
      ]
     },
     "execution_count": 46,
     "metadata": {},
     "output_type": "execute_result"
    }
   ],
   "source": [
    "df[['cuisine','rest_name']]"
   ]
  },
  {
   "cell_type": "code",
   "execution_count": 47,
   "id": "cc1d6283",
   "metadata": {},
   "outputs": [
    {
     "data": {
      "text/plain": [
       "Desserts,Bakery,                                            190\n",
       "Bakery,                                                     171\n",
       "Desserts,Ice Cream,                                         119\n",
       "Chinese,North Indian,                                       114\n",
       "Street Food,                                                106\n",
       "                                                           ... \n",
       "Beverages,Desserts,Chinese,Seafood,Mughlai,North Indian,      1\n",
       "Lebanese,Kebab,Biryani,                                       1\n",
       "Chinese,Thai,Asian,                                           1\n",
       "Beverages,North Indian,Kebab,Biryani,                         1\n",
       "Beverages,Chinese,Street Food,Fast Food,                      1\n",
       "Name: cuisine, Length: 1427, dtype: int64"
      ]
     },
     "execution_count": 47,
     "metadata": {},
     "output_type": "execute_result"
    }
   ],
   "source": [
    "df['cuisine'].value_counts()"
   ]
  },
  {
   "cell_type": "code",
   "execution_count": 48,
   "id": "0141b239",
   "metadata": {},
   "outputs": [
    {
     "name": "stdout",
     "output_type": "stream",
     "text": [
      "['North Indian', 'Continental', 'Asian', 'Finger Food', '', 'Mughlai', 'Mediterranean', 'European', 'Salad', 'Malaysian', 'Vietnamese', 'Thai', 'Chinese', 'Japanese', 'Biryani', 'Kebab', 'Italian', 'Bar Food', 'Seafood', 'Fast Food', 'Healthy Food', 'Mexican', 'Desserts', 'American', 'Greek', 'Maharashtrian', 'Beverages', 'South American', 'Steak', 'Brazilian', 'Malwani', 'South Indian', 'Chettinad', 'Kerala', 'Mangalorean', 'Pizza', 'Iranian', 'Goan', 'Charcoal Chicken', 'Cafe', 'Modern Indian', 'Korean', 'Sushi', 'Cantonese', 'Momos', 'Bakery', 'Tea', 'BBQ', 'Mongolian', 'Tex-Mex', 'Lebanese', 'Street Food', 'Cuisine Varies', 'Sandwich', 'Middle Eastern', 'African', 'Ethiopian', 'Burger', 'Hyderabadi', 'Parsi', 'German', 'Konkan', 'Rolls', 'Singaporean', 'Indonesian', 'Rajasthani', 'Lucknowi', 'Burmese', 'Bengali', 'Ice Cream', 'Kashmiri', 'Arabian', 'Gujarati', 'French', 'Tibetan', 'Coffee', 'Mithai', 'Bihari', 'Wraps', 'Odia', 'Juices', 'Raw Meats', 'Turkish', 'Frozen Yogurt', 'Awadhi', 'Afghan', 'Paan', 'Assamese', 'Andhra', 'Panini', 'Mishti', 'Naga']\n",
      "92\n"
     ]
    }
   ],
   "source": [
    "count=0\n",
    "cuisine=[]\n",
    "for i in df['cuisine']:\n",
    "    for j in i.split(\",\"):\n",
    "        if j not in cuisine:\n",
    "            cuisine.append(j)\n",
    "print(cuisine)\n",
    "print(len(cuisine))\n"
   ]
  },
  {
   "cell_type": "code",
   "execution_count": 49,
   "id": "7000c5a7",
   "metadata": {},
   "outputs": [
    {
     "name": "stdout",
     "output_type": "stream",
     "text": [
      "55\n"
     ]
    }
   ],
   "source": [
    "#number of cusine in pune\n",
    "\n",
    "count=0\n",
    "for i in df['cuisine']:\n",
    "    for j in i.split(\",\"):\n",
    "        if j=='Lebanese':\n",
    "            count=count+1\n",
    "print(count)"
   ]
  },
  {
   "cell_type": "code",
   "execution_count": 50,
   "id": "2133dd94",
   "metadata": {},
   "outputs": [
    {
     "name": "stdout",
     "output_type": "stream",
     "text": [
      "Desserts,Bakery,                                            190\n",
      "Bakery,                                                     171\n",
      "Desserts,Ice Cream,                                         119\n",
      "Chinese,North Indian,                                       114\n",
      "Street Food,                                                106\n",
      "                                                           ... \n",
      "Beverages,Desserts,Chinese,Seafood,Mughlai,North Indian,      1\n",
      "Lebanese,Kebab,Biryani,                                       1\n",
      "Chinese,Thai,Asian,                                           1\n",
      "Beverages,North Indian,Kebab,Biryani,                         1\n",
      "Beverages,Chinese,Street Food,Fast Food,                      1\n",
      "Name: cuisine, Length: 1427, dtype: int64\n"
     ]
    }
   ],
   "source": [
    "cuisine_values=df['cuisine'].value_counts()\n",
    "print(cuisine_values)"
   ]
  },
  {
   "cell_type": "code",
   "execution_count": 51,
   "id": "6ea8e6c0",
   "metadata": {},
   "outputs": [
    {
     "name": "stdout",
     "output_type": "stream",
     "text": [
      "2057\n"
     ]
    }
   ],
   "source": [
    "count=0\n",
    "for i in df['cuisine']:\n",
    "    for j in i.split(\",\"):\n",
    "        if j=='North Indian':\n",
    "            count=count+1\n",
    "print(count)"
   ]
  },
  {
   "cell_type": "code",
   "execution_count": 52,
   "id": "218fbf98",
   "metadata": {},
   "outputs": [
    {
     "name": "stdout",
     "output_type": "stream",
     "text": [
      "566\n"
     ]
    }
   ],
   "source": [
    "count=0\n",
    "for i in df['cuisine']:\n",
    "    for j in i.split(\",\"):\n",
    "        if j=='Biryani':\n",
    "            count=count+1 \n",
    "print(count)               "
   ]
  },
  {
   "cell_type": "code",
   "execution_count": 53,
   "id": "8e1ce51e",
   "metadata": {},
   "outputs": [
    {
     "name": "stdout",
     "output_type": "stream",
     "text": [
      "2057\n"
     ]
    }
   ],
   "source": [
    "#lets find number of resturant servinh North Indian food in PUNE\n",
    "count=0\n",
    "for i in df['cuisine']:\n",
    "    for j in i.split(\",\"): #using split to convert string to list \n",
    "        if j=='North Indian':\n",
    "            count=count+1 # iterating whenever a resturant is \n",
    "                          #serving north indian food\n",
    "print(count)"
   ]
  },
  {
   "cell_type": "markdown",
   "id": "c7d27845",
   "metadata": {},
   "source": [
    "# observation:\n",
    ".There are 2130 rest who are serving North Indian food in PUNE"
   ]
  },
  {
   "cell_type": "code",
   "execution_count": 54,
   "id": "a25b023c",
   "metadata": {},
   "outputs": [
    {
     "name": "stderr",
     "output_type": "stream",
     "text": [
      "C:\\Users\\ADMIN\\anaconda3\\lib\\site-packages\\seaborn\\_decorators.py:36: FutureWarning: Pass the following variable as a keyword arg: x. From version 0.12, the only valid positional argument will be `data`, and passing other arguments without an explicit keyword will result in an error or misinterpretation.\n",
      "  warnings.warn(\n"
     ]
    },
    {
     "data": {
      "text/plain": [
       "<AxesSubplot:xlabel='delivery_rating'>"
      ]
     },
     "execution_count": 54,
     "metadata": {},
     "output_type": "execute_result"
    },
    {
     "data": {
      "image/png": "[encoded data removed]",
      "text/plain": [
       "<Figure size 432x288 with 1 Axes>"
      ]
     },
     "metadata": {
      "needs_background": "light"
     },
     "output_type": "display_data"
    }
   ],
   "source": [
    "sns.boxplot(df[\"delivery_rating\"])"
   ]
  },
  {
   "cell_type": "markdown",
   "id": "6a4d8ce1",
   "metadata": {},
   "source": [
    "#Observation\n",
    "1.25% of delivery_rating in zomato lies below 3.6\n",
    "2.50% of  the deliver_rating in zomato lies below 3.9\n",
    "3.75% of the delivery_rating in zomato lies below 4.2\n",
    "4.100% of the delivery_rating in zomato lies below 5\n",
    "5. IQR(INTERQUARTILE RANGE)is difference between 75th percentile value and 25th percentile value"
   ]
  },
  {
   "cell_type": "code",
   "execution_count": null,
   "id": "1638d0f1",
   "metadata": {},
   "outputs": [],
   "source": []
  },
  {
   "cell_type": "code",
   "execution_count": 55,
   "id": "54a2fe32",
   "metadata": {},
   "outputs": [
    {
     "name": "stderr",
     "output_type": "stream",
     "text": [
      "C:\\Users\\ADMIN\\anaconda3\\lib\\site-packages\\seaborn\\_decorators.py:36: FutureWarning: Pass the following variable as a keyword arg: x. From version 0.12, the only valid positional argument will be `data`, and passing other arguments without an explicit keyword will result in an error or misinterpretation.\n",
      "  warnings.warn(\n"
     ]
    },
    {
     "data": {
      "text/plain": [
       "<AxesSubplot:xlabel='delivery_rating'>"
      ]
     },
     "execution_count": 55,
     "metadata": {},
     "output_type": "execute_result"
    },
    {
     "data": {
      "image/png": "[encoded data removed]",
      "text/plain": [
       "<Figure size 432x288 with 1 Axes>"
      ]
     },
     "metadata": {
      "needs_background": "light"
     },
     "output_type": "display_data"
    }
   ],
   "source": [
    "sns.violinplot(df[\"delivery_rating\"])"
   ]
  },
  {
   "cell_type": "markdown",
   "id": "ef606a70",
   "metadata": {},
   "source": [
    "VIOLIN PLOT IS ACTUALLY A COMBINATION OF PDF AND BOX PLOT"
   ]
  },
  {
   "cell_type": "markdown",
   "id": "eb03c7b6",
   "metadata": {},
   "source": [
    "# QUESTIONS\n",
    "Q1.Create a dataframe for all the restaurants which belong to KOTHRUD?\n",
    "\n",
    "Q2.Which are the highly rated restuarants in BANER?\n",
    "\n",
    "Q3.which are restuarants which got 0 rating the city PUNE?\n",
    "\n",
    "Q4.Return the location in pune with the best resturants?\n",
    "\n",
    "Q5.Plot the bar chart of top 10 locations rating wise in pune?"
   ]
  },
  {
   "cell_type": "code",
   "execution_count": 81,
   "id": "f268765d",
   "metadata": {},
   "outputs": [
    {
     "data": {
      "text/html": [
       "<div>\n",
       "<style scoped>\n",
       "    .dataframe tbody tr th:only-of-type {\n",
       "        vertical-align: middle;\n",
       "    }\n",
       "\n",
       "    .dataframe tbody tr th {\n",
       "        vertical-align: top;\n",
       "    }\n",
       "\n",
       "    .dataframe thead th {\n",
       "        text-align: right;\n",
       "    }\n",
       "</style>\n",
       "<table border=\"1\" class=\"dataframe\">\n",
       "  <thead>\n",
       "    <tr style=\"text-align: right;\">\n",
       "      <th></th>\n",
       "      <th>rest_name</th>\n",
       "      <th>rest_type</th>\n",
       "      <th>loc</th>\n",
       "      <th>dine_rating</th>\n",
       "      <th>dine_reviews</th>\n",
       "      <th>delivery_rating</th>\n",
       "      <th>delivery_reviews</th>\n",
       "      <th>cuisine</th>\n",
       "      <th>Cost (RS)</th>\n",
       "      <th>cost</th>\n",
       "      <th>liked</th>\n",
       "    </tr>\n",
       "  </thead>\n",
       "  <tbody>\n",
       "    <tr>\n",
       "      <th>161</th>\n",
       "      <td>The 3 Musketeers Sky Gallary\\r\\r\\n            ...</td>\n",
       "      <td>Casual Dining,Bar</td>\n",
       "      <td>Kothrud</td>\n",
       "      <td>0.0</td>\n",
       "      <td>NaN</td>\n",
       "      <td>NaN</td>\n",
       "      <td>NaN</td>\n",
       "      <td>Beverages,Chinese,Continental,</td>\n",
       "      <td>1700</td>\n",
       "      <td>Rs. 1700</td>\n",
       "      <td>NaN</td>\n",
       "    </tr>\n",
       "    <tr>\n",
       "      <th>183</th>\n",
       "      <td>Bacharika- Rooftop Bar And Kitchen\\r\\r\\n      ...</td>\n",
       "      <td>Casual Dining,Bar</td>\n",
       "      <td>Kothrud</td>\n",
       "      <td>4.1</td>\n",
       "      <td>(238 Reviews)</td>\n",
       "      <td>NaN</td>\n",
       "      <td>NaN</td>\n",
       "      <td>European,Middle Eastern,Continental,North Indi...</td>\n",
       "      <td>1600</td>\n",
       "      <td>Rs. 1600</td>\n",
       "      <td>NaN</td>\n",
       "    </tr>\n",
       "    <tr>\n",
       "      <th>191</th>\n",
       "      <td>ALC Bar &amp; Bites\\r\\r\\n                         ...</td>\n",
       "      <td>Bar,Casual Dining</td>\n",
       "      <td>Kothrud</td>\n",
       "      <td>3.7</td>\n",
       "      <td>(38 Reviews)</td>\n",
       "      <td>NaN</td>\n",
       "      <td>NaN</td>\n",
       "      <td>North Indian,Chinese,</td>\n",
       "      <td>1600</td>\n",
       "      <td>Rs. 1600</td>\n",
       "      <td>NaN</td>\n",
       "    </tr>\n",
       "    <tr>\n",
       "      <th>214</th>\n",
       "      <td>Barometer\\r\\r\\n                               ...</td>\n",
       "      <td>Casual Dining</td>\n",
       "      <td>Kothrud</td>\n",
       "      <td>4.6</td>\n",
       "      <td>-1,591</td>\n",
       "      <td>4.3</td>\n",
       "      <td>-1,797</td>\n",
       "      <td>Finger Food,North Indian,Asian,Continental,</td>\n",
       "      <td>1500</td>\n",
       "      <td>Rs. 1500</td>\n",
       "      <td>Cocktails, Pizza, Pasta, Filtered Coffee, Nach...</td>\n",
       "    </tr>\n",
       "    <tr>\n",
       "      <th>236</th>\n",
       "      <td>German Bakery Wunderbar\\r\\r\\n                 ...</td>\n",
       "      <td>Casual Dining</td>\n",
       "      <td>Kothrud</td>\n",
       "      <td>3.0</td>\n",
       "      <td>(91 Reviews)</td>\n",
       "      <td>NaN</td>\n",
       "      <td>NaN</td>\n",
       "      <td>Beverages,Desserts,Cafe,Italian,Continental,Ge...</td>\n",
       "      <td>1000</td>\n",
       "      <td>Rs. 1000</td>\n",
       "      <td>NaN</td>\n",
       "    </tr>\n",
       "    <tr>\n",
       "      <th>...</th>\n",
       "      <td>...</td>\n",
       "      <td>...</td>\n",
       "      <td>...</td>\n",
       "      <td>...</td>\n",
       "      <td>...</td>\n",
       "      <td>...</td>\n",
       "      <td>...</td>\n",
       "      <td>...</td>\n",
       "      <td>...</td>\n",
       "      <td>...</td>\n",
       "      <td>...</td>\n",
       "    </tr>\n",
       "    <tr>\n",
       "      <th>5338</th>\n",
       "      <td>Sudit All Day Kitchen\\r\\n                     ...</td>\n",
       "      <td>Casual Dining</td>\n",
       "      <td>Kothrud</td>\n",
       "      <td>3.7</td>\n",
       "      <td>-59</td>\n",
       "      <td>3.9</td>\n",
       "      <td>-61</td>\n",
       "      <td>North Indian,Maharashtrian,Chinese,</td>\n",
       "      <td>1000</td>\n",
       "      <td>Rs. 1000</td>\n",
       "      <td>NaN</td>\n",
       "    </tr>\n",
       "    <tr>\n",
       "      <th>5339</th>\n",
       "      <td>Taco Alfresco\\r\\n                             ...</td>\n",
       "      <td>Café</td>\n",
       "      <td>Kothrud</td>\n",
       "      <td>4.0</td>\n",
       "      <td>-113</td>\n",
       "      <td>4.1</td>\n",
       "      <td>-570</td>\n",
       "      <td>Mexican,Cafe,</td>\n",
       "      <td>650</td>\n",
       "      <td>Rs. 650</td>\n",
       "      <td>Nachos, Burrito Bowl, Coffee, Hot Chocolate, K...</td>\n",
       "    </tr>\n",
       "    <tr>\n",
       "      <th>5343</th>\n",
       "      <td>Parth Veg &amp; Non Veg\\r\\n                       ...</td>\n",
       "      <td>Casual Dining</td>\n",
       "      <td>Kothrud</td>\n",
       "      <td>3.6</td>\n",
       "      <td>-32</td>\n",
       "      <td>4.2</td>\n",
       "      <td>-257</td>\n",
       "      <td>Maharashtrian,Fast Food,Seafood,North Indian,</td>\n",
       "      <td>500</td>\n",
       "      <td>Rs. 500</td>\n",
       "      <td>NaN</td>\n",
       "    </tr>\n",
       "    <tr>\n",
       "      <th>5374</th>\n",
       "      <td>Yahoo!!! Momos\\r\\n                            ...</td>\n",
       "      <td>Quick Bites</td>\n",
       "      <td>Kothrud</td>\n",
       "      <td>2.9</td>\n",
       "      <td>-356</td>\n",
       "      <td>3.8</td>\n",
       "      <td>-4,726</td>\n",
       "      <td>Ice Cream,Momos,</td>\n",
       "      <td>300</td>\n",
       "      <td>Rs. 300</td>\n",
       "      <td>Chicken 65, Iced Tea, Veg Momos, Tandoori Momo...</td>\n",
       "    </tr>\n",
       "    <tr>\n",
       "      <th>5400</th>\n",
       "      <td>Taj 24/7\\r\\n</td>\n",
       "      <td>NaN</td>\n",
       "      <td>Kothrud</td>\n",
       "      <td>0.0</td>\n",
       "      <td>NaN</td>\n",
       "      <td>NaN</td>\n",
       "      <td>NaN</td>\n",
       "      <td>Beverages,South Indian,Street Food,</td>\n",
       "      <td>200</td>\n",
       "      <td>Rs. 200</td>\n",
       "      <td>NaN</td>\n",
       "    </tr>\n",
       "  </tbody>\n",
       "</table>\n",
       "<p>264 rows × 11 columns</p>\n",
       "</div>"
      ],
      "text/plain": [
       "                                              rest_name          rest_type  \\\n",
       "161   The 3 Musketeers Sky Gallary\\r\\r\\n            ...  Casual Dining,Bar   \n",
       "183   Bacharika- Rooftop Bar And Kitchen\\r\\r\\n      ...  Casual Dining,Bar   \n",
       "191   ALC Bar & Bites\\r\\r\\n                         ...  Bar,Casual Dining   \n",
       "214   Barometer\\r\\r\\n                               ...      Casual Dining   \n",
       "236   German Bakery Wunderbar\\r\\r\\n                 ...      Casual Dining   \n",
       "...                                                 ...                ...   \n",
       "5338  Sudit All Day Kitchen\\r\\n                     ...      Casual Dining   \n",
       "5339  Taco Alfresco\\r\\n                             ...               Café   \n",
       "5343  Parth Veg & Non Veg\\r\\n                       ...      Casual Dining   \n",
       "5374  Yahoo!!! Momos\\r\\n                            ...        Quick Bites   \n",
       "5400   Taj 24/7\\r\\n                                                    NaN   \n",
       "\n",
       "          loc  dine_rating   dine_reviews  delivery_rating delivery_reviews  \\\n",
       "161   Kothrud          0.0            NaN              NaN              NaN   \n",
       "183   Kothrud          4.1  (238 Reviews)              NaN              NaN   \n",
       "191   Kothrud          3.7   (38 Reviews)              NaN              NaN   \n",
       "214   Kothrud          4.6         -1,591              4.3           -1,797   \n",
       "236   Kothrud          3.0   (91 Reviews)              NaN              NaN   \n",
       "...       ...          ...            ...              ...              ...   \n",
       "5338  Kothrud          3.7            -59              3.9              -61   \n",
       "5339  Kothrud          4.0           -113              4.1             -570   \n",
       "5343  Kothrud          3.6            -32              4.2             -257   \n",
       "5374  Kothrud          2.9           -356              3.8           -4,726   \n",
       "5400  Kothrud          0.0            NaN              NaN              NaN   \n",
       "\n",
       "                                                cuisine  Cost (RS)      cost  \\\n",
       "161                      Beverages,Chinese,Continental,       1700  Rs. 1700   \n",
       "183   European,Middle Eastern,Continental,North Indi...       1600  Rs. 1600   \n",
       "191                               North Indian,Chinese,       1600  Rs. 1600   \n",
       "214         Finger Food,North Indian,Asian,Continental,       1500  Rs. 1500   \n",
       "236   Beverages,Desserts,Cafe,Italian,Continental,Ge...       1000  Rs. 1000   \n",
       "...                                                 ...        ...       ...   \n",
       "5338                North Indian,Maharashtrian,Chinese,       1000  Rs. 1000   \n",
       "5339                                      Mexican,Cafe,        650   Rs. 650   \n",
       "5343      Maharashtrian,Fast Food,Seafood,North Indian,        500   Rs. 500   \n",
       "5374                                   Ice Cream,Momos,        300   Rs. 300   \n",
       "5400                Beverages,South Indian,Street Food,        200   Rs. 200   \n",
       "\n",
       "                                                  liked  \n",
       "161                                                 NaN  \n",
       "183                                                 NaN  \n",
       "191                                                 NaN  \n",
       "214   Cocktails, Pizza, Pasta, Filtered Coffee, Nach...  \n",
       "236                                                 NaN  \n",
       "...                                                 ...  \n",
       "5338                                                NaN  \n",
       "5339  Nachos, Burrito Bowl, Coffee, Hot Chocolate, K...  \n",
       "5343                                                NaN  \n",
       "5374  Chicken 65, Iced Tea, Veg Momos, Tandoori Momo...  \n",
       "5400                                                NaN  \n",
       "\n",
       "[264 rows x 11 columns]"
      ]
     },
     "execution_count": 81,
     "metadata": {},
     "output_type": "execute_result"
    }
   ],
   "source": [
    "#Q1.Create a dataframe for all the restaurants which belong to KOTHRUD?\n",
    "df_Kothrud=df[df['loc']=='Kothrud']\n",
    "df_Kothrud"
   ]
  },
  {
   "cell_type": "code",
   "execution_count": 82,
   "id": "25c1d702",
   "metadata": {},
   "outputs": [
    {
     "data": {
      "text/plain": [
       "(264, 11)"
      ]
     },
     "execution_count": 82,
     "metadata": {},
     "output_type": "execute_result"
    }
   ],
   "source": [
    "df_Kothrud.shape"
   ]
  },
  {
   "cell_type": "markdown",
   "id": "1f3d648d",
   "metadata": {},
   "source": [
    "# HOW MANY RESTAURANTS IN KOTHRUD HAVE MORE THAN 4.2"
   ]
  },
  {
   "cell_type": "code",
   "execution_count": 83,
   "id": "0df4f42e",
   "metadata": {},
   "outputs": [
    {
     "data": {
      "text/html": [
       "<div>\n",
       "<style scoped>\n",
       "    .dataframe tbody tr th:only-of-type {\n",
       "        vertical-align: middle;\n",
       "    }\n",
       "\n",
       "    .dataframe tbody tr th {\n",
       "        vertical-align: top;\n",
       "    }\n",
       "\n",
       "    .dataframe thead th {\n",
       "        text-align: right;\n",
       "    }\n",
       "</style>\n",
       "<table border=\"1\" class=\"dataframe\">\n",
       "  <thead>\n",
       "    <tr style=\"text-align: right;\">\n",
       "      <th></th>\n",
       "      <th>rest_name</th>\n",
       "      <th>rest_type</th>\n",
       "      <th>loc</th>\n",
       "      <th>dine_rating</th>\n",
       "      <th>dine_reviews</th>\n",
       "      <th>delivery_rating</th>\n",
       "      <th>delivery_reviews</th>\n",
       "      <th>cuisine</th>\n",
       "      <th>Cost (RS)</th>\n",
       "      <th>cost</th>\n",
       "      <th>liked</th>\n",
       "    </tr>\n",
       "  </thead>\n",
       "  <tbody>\n",
       "    <tr>\n",
       "      <th>214</th>\n",
       "      <td>Barometer\\r\\r\\n                               ...</td>\n",
       "      <td>Casual Dining</td>\n",
       "      <td>Kothrud</td>\n",
       "      <td>4.6</td>\n",
       "      <td>-1,591</td>\n",
       "      <td>4.3</td>\n",
       "      <td>-1,797</td>\n",
       "      <td>Finger Food,North Indian,Asian,Continental,</td>\n",
       "      <td>1500</td>\n",
       "      <td>Rs. 1500</td>\n",
       "      <td>Cocktails, Pizza, Pasta, Filtered Coffee, Nach...</td>\n",
       "    </tr>\n",
       "    <tr>\n",
       "      <th>462</th>\n",
       "      <td>La Gustosa\\r\\r\\n                              ...</td>\n",
       "      <td>Casual Dining</td>\n",
       "      <td>Kothrud</td>\n",
       "      <td>4.5</td>\n",
       "      <td>-1,855</td>\n",
       "      <td>4.3</td>\n",
       "      <td>-251</td>\n",
       "      <td>Italian,</td>\n",
       "      <td>1200</td>\n",
       "      <td>Rs. 1200</td>\n",
       "      <td>Pasta, Pizza, Garlic Bread, Chocolate Cheeseca...</td>\n",
       "    </tr>\n",
       "    <tr>\n",
       "      <th>472</th>\n",
       "      <td>Yin Yang\\r\\r\\n                                ...</td>\n",
       "      <td>Casual Dining</td>\n",
       "      <td>Kothrud</td>\n",
       "      <td>4.5</td>\n",
       "      <td>-413</td>\n",
       "      <td>4.3</td>\n",
       "      <td>-719</td>\n",
       "      <td>Indonesian,Burmese,Japanese,Malaysian,Thai,</td>\n",
       "      <td>1200</td>\n",
       "      <td>Rs. 1200</td>\n",
       "      <td>Sushi, Dumplings, Khau Suey, Thai Green Curry,...</td>\n",
       "    </tr>\n",
       "    <tr>\n",
       "      <th>776</th>\n",
       "      <td>Barometer\\r\\n</td>\n",
       "      <td>Casual Dining</td>\n",
       "      <td>Kothrud</td>\n",
       "      <td>4.6</td>\n",
       "      <td>-1,591</td>\n",
       "      <td>4.4</td>\n",
       "      <td>-1,790</td>\n",
       "      <td>Finger Food,North Indian,Asian,Continental,</td>\n",
       "      <td>1500</td>\n",
       "      <td>Rs. 1500</td>\n",
       "      <td>Cocktails, Pizza, Pasta, Filtered Coffee, Nach...</td>\n",
       "    </tr>\n",
       "    <tr>\n",
       "      <th>847</th>\n",
       "      <td>Theobroma\\r\\n</td>\n",
       "      <td>Bakery</td>\n",
       "      <td>Kothrud</td>\n",
       "      <td>3.8</td>\n",
       "      <td>-60</td>\n",
       "      <td>4.5</td>\n",
       "      <td>-286</td>\n",
       "      <td>Beverages,Fast Food,Desserts,Bakery,</td>\n",
       "      <td>900</td>\n",
       "      <td>Rs. 900</td>\n",
       "      <td>NaN</td>\n",
       "    </tr>\n",
       "    <tr>\n",
       "      <th>1238</th>\n",
       "      <td>The Momo Panda\\r\\n                            ...</td>\n",
       "      <td>Quick Bites</td>\n",
       "      <td>Kothrud</td>\n",
       "      <td>4.3</td>\n",
       "      <td>-507</td>\n",
       "      <td>4.5</td>\n",
       "      <td>-7,862</td>\n",
       "      <td>Momos,</td>\n",
       "      <td>300</td>\n",
       "      <td>Rs. 300</td>\n",
       "      <td>Paneer Momos, Chicken Tandoori Momos, Iced Pea...</td>\n",
       "    </tr>\n",
       "    <tr>\n",
       "      <th>1253</th>\n",
       "      <td>La Gustosa\\r\\n                                ...</td>\n",
       "      <td>Casual Dining</td>\n",
       "      <td>Kothrud</td>\n",
       "      <td>4.5</td>\n",
       "      <td>-1,854</td>\n",
       "      <td>4.3</td>\n",
       "      <td>-249</td>\n",
       "      <td>Italian,</td>\n",
       "      <td>1200</td>\n",
       "      <td>Rs. 1200</td>\n",
       "      <td>Pasta, Pizza, Garlic Bread, Chocolate Cheeseca...</td>\n",
       "    </tr>\n",
       "    <tr>\n",
       "      <th>1524</th>\n",
       "      <td>Le Petit Amour Patisserie &amp; Bistro\\r\\n        ...</td>\n",
       "      <td>Café,Dessert Parlor</td>\n",
       "      <td>Kothrud</td>\n",
       "      <td>4.6</td>\n",
       "      <td>-881</td>\n",
       "      <td>4.3</td>\n",
       "      <td>-473</td>\n",
       "      <td>Salad,Desserts,European,French,Cafe,</td>\n",
       "      <td>800</td>\n",
       "      <td>Rs. 800</td>\n",
       "      <td>Pasta, Sandwich, Salad, Fries, Cheesecake, Fis...</td>\n",
       "    </tr>\n",
       "    <tr>\n",
       "      <th>1690</th>\n",
       "      <td>Cake Cart\\r\\n</td>\n",
       "      <td>Dessert Parlor</td>\n",
       "      <td>Kothrud</td>\n",
       "      <td>4.0</td>\n",
       "      <td>-109</td>\n",
       "      <td>4.4</td>\n",
       "      <td>-229</td>\n",
       "      <td>Bakery,</td>\n",
       "      <td>250</td>\n",
       "      <td>Rs. 250</td>\n",
       "      <td>Chips, Dutch Truffle</td>\n",
       "    </tr>\n",
       "    <tr>\n",
       "      <th>1701</th>\n",
       "      <td>Natural Ice Cream\\r\\n                         ...</td>\n",
       "      <td>Dessert Parlor</td>\n",
       "      <td>Kothrud</td>\n",
       "      <td>4.3</td>\n",
       "      <td>-524</td>\n",
       "      <td>4.5</td>\n",
       "      <td>-5,228</td>\n",
       "      <td>Desserts,Ice Cream,</td>\n",
       "      <td>150</td>\n",
       "      <td>Rs. 150</td>\n",
       "      <td>Waffle Cone, Mango Ice Cream, Tender Coconut I...</td>\n",
       "    </tr>\n",
       "    <tr>\n",
       "      <th>1737</th>\n",
       "      <td>Midnight Kakery\\r\\n                           ...</td>\n",
       "      <td>Bakery</td>\n",
       "      <td>Kothrud</td>\n",
       "      <td>4.2</td>\n",
       "      <td>-178</td>\n",
       "      <td>4.8</td>\n",
       "      <td>-127</td>\n",
       "      <td>Fast Food,Desserts,Bakery,</td>\n",
       "      <td>300</td>\n",
       "      <td>Rs. 300</td>\n",
       "      <td>Macaroon, Tiramisu, Cupcake, Coffee, Red Velve...</td>\n",
       "    </tr>\n",
       "    <tr>\n",
       "      <th>1773</th>\n",
       "      <td>Apsara Ice Creams\\r\\n                         ...</td>\n",
       "      <td>Dessert Parlor</td>\n",
       "      <td>Kothrud</td>\n",
       "      <td>3.8</td>\n",
       "      <td>-12</td>\n",
       "      <td>4.4</td>\n",
       "      <td>-93</td>\n",
       "      <td>Desserts,Ice Cream,</td>\n",
       "      <td>400</td>\n",
       "      <td>Rs. 400</td>\n",
       "      <td>NaN</td>\n",
       "    </tr>\n",
       "    <tr>\n",
       "      <th>1874</th>\n",
       "      <td>Venky's Xprs\\r\\n                              ...</td>\n",
       "      <td>Quick Bites</td>\n",
       "      <td>Kothrud</td>\n",
       "      <td>3.1</td>\n",
       "      <td>-93</td>\n",
       "      <td>4.3</td>\n",
       "      <td>-243</td>\n",
       "      <td>Fast Food,</td>\n",
       "      <td>400</td>\n",
       "      <td>Rs. 400</td>\n",
       "      <td>Grilled Chicken Burger, Chicken Cheese Nuggets...</td>\n",
       "    </tr>\n",
       "    <tr>\n",
       "      <th>1993</th>\n",
       "      <td>Baker's Basket\\r\\n                            ...</td>\n",
       "      <td>Bakery,Quick Bites</td>\n",
       "      <td>Kothrud</td>\n",
       "      <td>3.9</td>\n",
       "      <td>-80</td>\n",
       "      <td>4.3</td>\n",
       "      <td>-203</td>\n",
       "      <td>Fast Food,Desserts,Bakery,</td>\n",
       "      <td>400</td>\n",
       "      <td>Rs. 400</td>\n",
       "      <td>Chocolate Cake, Pineapple Cake</td>\n",
       "    </tr>\n",
       "    <tr>\n",
       "      <th>2238</th>\n",
       "      <td>The Belgian Waffle Co.\\r\\n                    ...</td>\n",
       "      <td>Dessert Parlor</td>\n",
       "      <td>Kothrud</td>\n",
       "      <td>3.9</td>\n",
       "      <td>-112</td>\n",
       "      <td>4.3</td>\n",
       "      <td>-1,189</td>\n",
       "      <td>Fast Food,Beverages,Desserts,</td>\n",
       "      <td>300</td>\n",
       "      <td>Rs. 300</td>\n",
       "      <td>Oreo Shake, Triple Chocolate, Nutella Waffle, ...</td>\n",
       "    </tr>\n",
       "    <tr>\n",
       "      <th>2289</th>\n",
       "      <td>Yin Yang\\r\\n</td>\n",
       "      <td>Casual Dining</td>\n",
       "      <td>Kothrud</td>\n",
       "      <td>4.5</td>\n",
       "      <td>-413</td>\n",
       "      <td>4.3</td>\n",
       "      <td>-717</td>\n",
       "      <td>Indonesian,Burmese,Japanese,Malaysian,Thai,</td>\n",
       "      <td>1200</td>\n",
       "      <td>Rs. 1200</td>\n",
       "      <td>Sushi, Dumplings, Khau Suey, Thai Green Curry,...</td>\n",
       "    </tr>\n",
       "    <tr>\n",
       "      <th>2710</th>\n",
       "      <td>Frozen Bottle\\r\\n                             ...</td>\n",
       "      <td>Beverage Shop</td>\n",
       "      <td>Kothrud</td>\n",
       "      <td>3.6</td>\n",
       "      <td>-192</td>\n",
       "      <td>4.4</td>\n",
       "      <td>-3,010</td>\n",
       "      <td>Desserts,Beverages,</td>\n",
       "      <td>500</td>\n",
       "      <td>Rs. 500</td>\n",
       "      <td>Mango Ice Cream, Oreo Cheesecake</td>\n",
       "    </tr>\n",
       "    <tr>\n",
       "      <th>4643</th>\n",
       "      <td>Haveli Unlimited\\r\\n                          ...</td>\n",
       "      <td>Casual Dining</td>\n",
       "      <td>Kothrud</td>\n",
       "      <td>4.0</td>\n",
       "      <td>-139</td>\n",
       "      <td>4.4</td>\n",
       "      <td>-804</td>\n",
       "      <td>Biryani,Malwani,Maharashtrian,North Indian,</td>\n",
       "      <td>600</td>\n",
       "      <td>Rs. 600</td>\n",
       "      <td>Mutton Thali, Crab Thali</td>\n",
       "    </tr>\n",
       "  </tbody>\n",
       "</table>\n",
       "</div>"
      ],
      "text/plain": [
       "                                              rest_name            rest_type  \\\n",
       "214   Barometer\\r\\r\\n                               ...        Casual Dining   \n",
       "462   La Gustosa\\r\\r\\n                              ...        Casual Dining   \n",
       "472   Yin Yang\\r\\r\\n                                ...        Casual Dining   \n",
       "776   Barometer\\r\\n                                            Casual Dining   \n",
       "847   Theobroma\\r\\n                                                   Bakery   \n",
       "1238  The Momo Panda\\r\\n                            ...          Quick Bites   \n",
       "1253  La Gustosa\\r\\n                                ...        Casual Dining   \n",
       "1524  Le Petit Amour Patisserie & Bistro\\r\\n        ...  Café,Dessert Parlor   \n",
       "1690  Cake Cart\\r\\n                                           Dessert Parlor   \n",
       "1701  Natural Ice Cream\\r\\n                         ...       Dessert Parlor   \n",
       "1737  Midnight Kakery\\r\\n                           ...               Bakery   \n",
       "1773  Apsara Ice Creams\\r\\n                         ...       Dessert Parlor   \n",
       "1874  Venky's Xprs\\r\\n                              ...          Quick Bites   \n",
       "1993  Baker's Basket\\r\\n                            ...   Bakery,Quick Bites   \n",
       "2238  The Belgian Waffle Co.\\r\\n                    ...       Dessert Parlor   \n",
       "2289   Yin Yang\\r\\n                                            Casual Dining   \n",
       "2710  Frozen Bottle\\r\\n                             ...        Beverage Shop   \n",
       "4643  Haveli Unlimited\\r\\n                          ...        Casual Dining   \n",
       "\n",
       "          loc  dine_rating dine_reviews  delivery_rating delivery_reviews  \\\n",
       "214   Kothrud          4.6       -1,591              4.3           -1,797   \n",
       "462   Kothrud          4.5       -1,855              4.3             -251   \n",
       "472   Kothrud          4.5         -413              4.3             -719   \n",
       "776   Kothrud          4.6       -1,591              4.4           -1,790   \n",
       "847   Kothrud          3.8          -60              4.5             -286   \n",
       "1238  Kothrud          4.3         -507              4.5           -7,862   \n",
       "1253  Kothrud          4.5       -1,854              4.3             -249   \n",
       "1524  Kothrud          4.6         -881              4.3             -473   \n",
       "1690  Kothrud          4.0         -109              4.4             -229   \n",
       "1701  Kothrud          4.3         -524              4.5           -5,228   \n",
       "1737  Kothrud          4.2         -178              4.8             -127   \n",
       "1773  Kothrud          3.8          -12              4.4              -93   \n",
       "1874  Kothrud          3.1          -93              4.3             -243   \n",
       "1993  Kothrud          3.9          -80              4.3             -203   \n",
       "2238  Kothrud          3.9         -112              4.3           -1,189   \n",
       "2289  Kothrud          4.5         -413              4.3             -717   \n",
       "2710  Kothrud          3.6         -192              4.4           -3,010   \n",
       "4643  Kothrud          4.0         -139              4.4             -804   \n",
       "\n",
       "                                          cuisine  Cost (RS)      cost  \\\n",
       "214   Finger Food,North Indian,Asian,Continental,       1500  Rs. 1500   \n",
       "462                                      Italian,       1200  Rs. 1200   \n",
       "472   Indonesian,Burmese,Japanese,Malaysian,Thai,       1200  Rs. 1200   \n",
       "776   Finger Food,North Indian,Asian,Continental,       1500  Rs. 1500   \n",
       "847          Beverages,Fast Food,Desserts,Bakery,        900   Rs. 900   \n",
       "1238                                       Momos,        300   Rs. 300   \n",
       "1253                                     Italian,       1200  Rs. 1200   \n",
       "1524         Salad,Desserts,European,French,Cafe,        800   Rs. 800   \n",
       "1690                                      Bakery,        250   Rs. 250   \n",
       "1701                          Desserts,Ice Cream,        150   Rs. 150   \n",
       "1737                   Fast Food,Desserts,Bakery,        300   Rs. 300   \n",
       "1773                          Desserts,Ice Cream,        400   Rs. 400   \n",
       "1874                                   Fast Food,        400   Rs. 400   \n",
       "1993                   Fast Food,Desserts,Bakery,        400   Rs. 400   \n",
       "2238                Fast Food,Beverages,Desserts,        300   Rs. 300   \n",
       "2289  Indonesian,Burmese,Japanese,Malaysian,Thai,       1200  Rs. 1200   \n",
       "2710                          Desserts,Beverages,        500   Rs. 500   \n",
       "4643  Biryani,Malwani,Maharashtrian,North Indian,        600   Rs. 600   \n",
       "\n",
       "                                                  liked  \n",
       "214   Cocktails, Pizza, Pasta, Filtered Coffee, Nach...  \n",
       "462   Pasta, Pizza, Garlic Bread, Chocolate Cheeseca...  \n",
       "472   Sushi, Dumplings, Khau Suey, Thai Green Curry,...  \n",
       "776   Cocktails, Pizza, Pasta, Filtered Coffee, Nach...  \n",
       "847                                                 NaN  \n",
       "1238  Paneer Momos, Chicken Tandoori Momos, Iced Pea...  \n",
       "1253  Pasta, Pizza, Garlic Bread, Chocolate Cheeseca...  \n",
       "1524  Pasta, Sandwich, Salad, Fries, Cheesecake, Fis...  \n",
       "1690                               Chips, Dutch Truffle  \n",
       "1701  Waffle Cone, Mango Ice Cream, Tender Coconut I...  \n",
       "1737  Macaroon, Tiramisu, Cupcake, Coffee, Red Velve...  \n",
       "1773                                                NaN  \n",
       "1874  Grilled Chicken Burger, Chicken Cheese Nuggets...  \n",
       "1993                     Chocolate Cake, Pineapple Cake  \n",
       "2238  Oreo Shake, Triple Chocolate, Nutella Waffle, ...  \n",
       "2289  Sushi, Dumplings, Khau Suey, Thai Green Curry,...  \n",
       "2710                   Mango Ice Cream, Oreo Cheesecake  \n",
       "4643                           Mutton Thali, Crab Thali  "
      ]
     },
     "execution_count": 83,
     "metadata": {},
     "output_type": "execute_result"
    }
   ],
   "source": [
    "df_Kothrud[df_Kothrud['delivery_rating']>4.2]"
   ]
  },
  {
   "cell_type": "code",
   "execution_count": 84,
   "id": "0248f072",
   "metadata": {},
   "outputs": [
    {
     "data": {
      "text/html": [
       "<div>\n",
       "<style scoped>\n",
       "    .dataframe tbody tr th:only-of-type {\n",
       "        vertical-align: middle;\n",
       "    }\n",
       "\n",
       "    .dataframe tbody tr th {\n",
       "        vertical-align: top;\n",
       "    }\n",
       "\n",
       "    .dataframe thead th {\n",
       "        text-align: right;\n",
       "    }\n",
       "</style>\n",
       "<table border=\"1\" class=\"dataframe\">\n",
       "  <thead>\n",
       "    <tr style=\"text-align: right;\">\n",
       "      <th></th>\n",
       "      <th>rest_name</th>\n",
       "      <th>rest_type</th>\n",
       "      <th>loc</th>\n",
       "      <th>dine_rating</th>\n",
       "      <th>dine_reviews</th>\n",
       "      <th>delivery_rating</th>\n",
       "      <th>delivery_reviews</th>\n",
       "      <th>cuisine</th>\n",
       "      <th>Cost (RS)</th>\n",
       "      <th>cost</th>\n",
       "      <th>liked</th>\n",
       "    </tr>\n",
       "  </thead>\n",
       "  <tbody>\n",
       "    <tr>\n",
       "      <th>58</th>\n",
       "      <td>Effingut\\r\\r\\n                                ...</td>\n",
       "      <td>Pub</td>\n",
       "      <td>Baner</td>\n",
       "      <td>4.7</td>\n",
       "      <td>-2,894</td>\n",
       "      <td>4.5</td>\n",
       "      <td>-649</td>\n",
       "      <td>Asian,Italian,Mughlai,North Indian,Continental,</td>\n",
       "      <td>2000</td>\n",
       "      <td>Rs. 2000</td>\n",
       "      <td>Apple Cider, Craft Beer, Nachos, Cocktails, Bu...</td>\n",
       "    </tr>\n",
       "    <tr>\n",
       "      <th>72</th>\n",
       "      <td>The K Factory\\r\\r\\n                           ...</td>\n",
       "      <td>Casual Dining,Lounge</td>\n",
       "      <td>Baner</td>\n",
       "      <td>4.6</td>\n",
       "      <td>-3,742</td>\n",
       "      <td>3.9</td>\n",
       "      <td>-252</td>\n",
       "      <td>Beverages,Biryani,Charcoal Chicken,Salad,Desse...</td>\n",
       "      <td>2000</td>\n",
       "      <td>Rs. 2000</td>\n",
       "      <td>Pasta, Salad, Cheesecake, Cocktails, Pizza, Pe...</td>\n",
       "    </tr>\n",
       "    <tr>\n",
       "      <th>120</th>\n",
       "      <td>Mr Rabbit's Bar &amp; Burrow\\r\\r\\n                ...</td>\n",
       "      <td>Bar,Casual Dining</td>\n",
       "      <td>Baner</td>\n",
       "      <td>4.5</td>\n",
       "      <td>(633 Reviews)</td>\n",
       "      <td>NaN</td>\n",
       "      <td>NaN</td>\n",
       "      <td>South Indian,European,Continental,Finger Food,</td>\n",
       "      <td>1800</td>\n",
       "      <td>Rs. 1800</td>\n",
       "      <td>Cocktails, Tiramisu, Ravioli, Beer, Murgh Ghee...</td>\n",
       "    </tr>\n",
       "    <tr>\n",
       "      <th>142</th>\n",
       "      <td>Urbo\\r\\r\\n</td>\n",
       "      <td>Lounge,Casual Dining</td>\n",
       "      <td>Baner</td>\n",
       "      <td>4.2</td>\n",
       "      <td>(952 Reviews)</td>\n",
       "      <td>NaN</td>\n",
       "      <td>NaN</td>\n",
       "      <td>North Indian,Continental,</td>\n",
       "      <td>1700</td>\n",
       "      <td>Rs. 1700</td>\n",
       "      <td>Pizza, Cocktails, Mocktails, Brownie, Paneer T...</td>\n",
       "    </tr>\n",
       "    <tr>\n",
       "      <th>166</th>\n",
       "      <td>The Urban Foundry\\r\\r\\n                       ...</td>\n",
       "      <td>Bar,Casual Dining</td>\n",
       "      <td>Baner</td>\n",
       "      <td>4.6</td>\n",
       "      <td>(3,912 Reviews)</td>\n",
       "      <td>NaN</td>\n",
       "      <td>NaN</td>\n",
       "      <td>Fast Food,Asian,North Indian,Bar Food,</td>\n",
       "      <td>1600</td>\n",
       "      <td>Rs. 1600</td>\n",
       "      <td>Cocktails, Pizza, Beer, Soya Chaap, Mocktails,...</td>\n",
       "    </tr>\n",
       "    <tr>\n",
       "      <th>...</th>\n",
       "      <td>...</td>\n",
       "      <td>...</td>\n",
       "      <td>...</td>\n",
       "      <td>...</td>\n",
       "      <td>...</td>\n",
       "      <td>...</td>\n",
       "      <td>...</td>\n",
       "      <td>...</td>\n",
       "      <td>...</td>\n",
       "      <td>...</td>\n",
       "      <td>...</td>\n",
       "    </tr>\n",
       "    <tr>\n",
       "      <th>5386</th>\n",
       "      <td>I'm Lion, Strictly Non-Veg\\r\\n                ...</td>\n",
       "      <td>Casual Dining</td>\n",
       "      <td>Baner</td>\n",
       "      <td>4.2</td>\n",
       "      <td>-271</td>\n",
       "      <td>4.0</td>\n",
       "      <td>-355</td>\n",
       "      <td>Konkan,Seafood,Goan,Mangalorean,</td>\n",
       "      <td>800</td>\n",
       "      <td>Rs. 800</td>\n",
       "      <td>Sea Food, Neer Dosa, Sol Kadhi, Fry Prawns, Su...</td>\n",
       "    </tr>\n",
       "    <tr>\n",
       "      <th>5390</th>\n",
       "      <td>The Curious Kitchen &amp; Bar\\r\\n                 ...</td>\n",
       "      <td>Casual Dining,Bar</td>\n",
       "      <td>Baner</td>\n",
       "      <td>4.2</td>\n",
       "      <td>-248</td>\n",
       "      <td>3.6</td>\n",
       "      <td>-842</td>\n",
       "      <td>Italian,Continental,Chinese,North Indian,</td>\n",
       "      <td>900</td>\n",
       "      <td>Rs. 900</td>\n",
       "      <td>Mocktails, Brownie, Caramel Custard, Paan Moji...</td>\n",
       "    </tr>\n",
       "    <tr>\n",
       "      <th>5417</th>\n",
       "      <td>Punjabi Rasoi\\r\\n                             ...</td>\n",
       "      <td>NaN</td>\n",
       "      <td>Baner</td>\n",
       "      <td>4.0</td>\n",
       "      <td>(137 Reviews)</td>\n",
       "      <td>NaN</td>\n",
       "      <td>NaN</td>\n",
       "      <td>North Indian,</td>\n",
       "      <td>300</td>\n",
       "      <td>Rs. 300</td>\n",
       "      <td>NaN</td>\n",
       "    </tr>\n",
       "    <tr>\n",
       "      <th>5418</th>\n",
       "      <td>Tokyo Bakery\\r\\n                              ...</td>\n",
       "      <td>Bakery</td>\n",
       "      <td>Baner</td>\n",
       "      <td>4.0</td>\n",
       "      <td>(49 Reviews)</td>\n",
       "      <td>NaN</td>\n",
       "      <td>NaN</td>\n",
       "      <td>Bakery,</td>\n",
       "      <td>150</td>\n",
       "      <td>Rs. 150</td>\n",
       "      <td>NaN</td>\n",
       "    </tr>\n",
       "    <tr>\n",
       "      <th>5420</th>\n",
       "      <td>Shawarma, Meals &amp; More\\r\\n                    ...</td>\n",
       "      <td>NaN</td>\n",
       "      <td>Baner</td>\n",
       "      <td>2.6</td>\n",
       "      <td>-42</td>\n",
       "      <td>3.4</td>\n",
       "      <td>-343</td>\n",
       "      <td>Burger,Sandwich,Beverages,Rolls,Lebanese,</td>\n",
       "      <td>300</td>\n",
       "      <td>Rs. 300</td>\n",
       "      <td>NaN</td>\n",
       "    </tr>\n",
       "  </tbody>\n",
       "</table>\n",
       "<p>219 rows × 11 columns</p>\n",
       "</div>"
      ],
      "text/plain": [
       "                                              rest_name             rest_type  \\\n",
       "58    Effingut\\r\\r\\n                                ...                   Pub   \n",
       "72    The K Factory\\r\\r\\n                           ...  Casual Dining,Lounge   \n",
       "120   Mr Rabbit's Bar & Burrow\\r\\r\\n                ...     Bar,Casual Dining   \n",
       "142      Urbo\\r\\r\\n                                      Lounge,Casual Dining   \n",
       "166   The Urban Foundry\\r\\r\\n                       ...     Bar,Casual Dining   \n",
       "...                                                 ...                   ...   \n",
       "5386  I'm Lion, Strictly Non-Veg\\r\\n                ...         Casual Dining   \n",
       "5390  The Curious Kitchen & Bar\\r\\n                 ...     Casual Dining,Bar   \n",
       "5417  Punjabi Rasoi\\r\\n                             ...                   NaN   \n",
       "5418  Tokyo Bakery\\r\\n                              ...                Bakery   \n",
       "5420  Shawarma, Meals & More\\r\\n                    ...                   NaN   \n",
       "\n",
       "        loc  dine_rating     dine_reviews  delivery_rating delivery_reviews  \\\n",
       "58    Baner          4.7           -2,894              4.5             -649   \n",
       "72    Baner          4.6           -3,742              3.9             -252   \n",
       "120   Baner          4.5    (633 Reviews)              NaN              NaN   \n",
       "142   Baner          4.2    (952 Reviews)              NaN              NaN   \n",
       "166   Baner          4.6  (3,912 Reviews)              NaN              NaN   \n",
       "...     ...          ...              ...              ...              ...   \n",
       "5386  Baner          4.2             -271              4.0             -355   \n",
       "5390  Baner          4.2             -248              3.6             -842   \n",
       "5417  Baner          4.0    (137 Reviews)              NaN              NaN   \n",
       "5418  Baner          4.0     (49 Reviews)              NaN              NaN   \n",
       "5420  Baner          2.6              -42              3.4             -343   \n",
       "\n",
       "                                                cuisine  Cost (RS)      cost  \\\n",
       "58      Asian,Italian,Mughlai,North Indian,Continental,       2000  Rs. 2000   \n",
       "72    Beverages,Biryani,Charcoal Chicken,Salad,Desse...       2000  Rs. 2000   \n",
       "120      South Indian,European,Continental,Finger Food,       1800  Rs. 1800   \n",
       "142                           North Indian,Continental,       1700  Rs. 1700   \n",
       "166              Fast Food,Asian,North Indian,Bar Food,       1600  Rs. 1600   \n",
       "...                                                 ...        ...       ...   \n",
       "5386                   Konkan,Seafood,Goan,Mangalorean,        800   Rs. 800   \n",
       "5390          Italian,Continental,Chinese,North Indian,        900   Rs. 900   \n",
       "5417                                      North Indian,        300   Rs. 300   \n",
       "5418                                            Bakery,        150   Rs. 150   \n",
       "5420          Burger,Sandwich,Beverages,Rolls,Lebanese,        300   Rs. 300   \n",
       "\n",
       "                                                  liked  \n",
       "58    Apple Cider, Craft Beer, Nachos, Cocktails, Bu...  \n",
       "72    Pasta, Salad, Cheesecake, Cocktails, Pizza, Pe...  \n",
       "120   Cocktails, Tiramisu, Ravioli, Beer, Murgh Ghee...  \n",
       "142   Pizza, Cocktails, Mocktails, Brownie, Paneer T...  \n",
       "166   Cocktails, Pizza, Beer, Soya Chaap, Mocktails,...  \n",
       "...                                                 ...  \n",
       "5386  Sea Food, Neer Dosa, Sol Kadhi, Fry Prawns, Su...  \n",
       "5390  Mocktails, Brownie, Caramel Custard, Paan Moji...  \n",
       "5417                                                NaN  \n",
       "5418                                                NaN  \n",
       "5420                                                NaN  \n",
       "\n",
       "[219 rows x 11 columns]"
      ]
     },
     "execution_count": 84,
     "metadata": {},
     "output_type": "execute_result"
    }
   ],
   "source": [
    "#Q2.Which are the highly rated restuarants in BANER?\n",
    "df_Baner=df[df['loc']=='Baner']\n",
    "df_Baner"
   ]
  },
  {
   "cell_type": "code",
   "execution_count": 85,
   "id": "fa433062",
   "metadata": {},
   "outputs": [
    {
     "data": {
      "text/plain": [
       "(219, 11)"
      ]
     },
     "execution_count": 85,
     "metadata": {},
     "output_type": "execute_result"
    }
   ],
   "source": [
    "df_Baner.shape"
   ]
  },
  {
   "cell_type": "code",
   "execution_count": 86,
   "id": "17b48ddf",
   "metadata": {},
   "outputs": [
    {
     "data": {
      "text/html": [
       "<div>\n",
       "<style scoped>\n",
       "    .dataframe tbody tr th:only-of-type {\n",
       "        vertical-align: middle;\n",
       "    }\n",
       "\n",
       "    .dataframe tbody tr th {\n",
       "        vertical-align: top;\n",
       "    }\n",
       "\n",
       "    .dataframe thead th {\n",
       "        text-align: right;\n",
       "    }\n",
       "</style>\n",
       "<table border=\"1\" class=\"dataframe\">\n",
       "  <thead>\n",
       "    <tr style=\"text-align: right;\">\n",
       "      <th></th>\n",
       "      <th>rest_name</th>\n",
       "      <th>rest_type</th>\n",
       "      <th>loc</th>\n",
       "      <th>dine_rating</th>\n",
       "      <th>dine_reviews</th>\n",
       "      <th>delivery_rating</th>\n",
       "      <th>delivery_reviews</th>\n",
       "      <th>cuisine</th>\n",
       "      <th>Cost (RS)</th>\n",
       "      <th>cost</th>\n",
       "      <th>liked</th>\n",
       "    </tr>\n",
       "  </thead>\n",
       "  <tbody>\n",
       "    <tr>\n",
       "      <th>36</th>\n",
       "      <td>Zen Bar\\r\\r\\n</td>\n",
       "      <td>Bar</td>\n",
       "      <td>Hotel Mercure, Lavasa</td>\n",
       "      <td>0.0</td>\n",
       "      <td>NaN</td>\n",
       "      <td>NaN</td>\n",
       "      <td>NaN</td>\n",
       "      <td>Finger Food,</td>\n",
       "      <td>2400</td>\n",
       "      <td>Rs. 2400</td>\n",
       "      <td>NaN</td>\n",
       "    </tr>\n",
       "    <tr>\n",
       "      <th>96</th>\n",
       "      <td>The Chinese Restaurant\\r\\r\\n                  ...</td>\n",
       "      <td>Fine Dining</td>\n",
       "      <td>Mundhwa</td>\n",
       "      <td>0.0</td>\n",
       "      <td>NaN</td>\n",
       "      <td>NaN</td>\n",
       "      <td>NaN</td>\n",
       "      <td>Cantonese,Chinese,</td>\n",
       "      <td>2000</td>\n",
       "      <td>Rs. 2000</td>\n",
       "      <td>NaN</td>\n",
       "    </tr>\n",
       "    <tr>\n",
       "      <th>100</th>\n",
       "      <td>Fusion Fantasea\\r\\r\\n                         ...</td>\n",
       "      <td>Bar,Casual Dining</td>\n",
       "      <td>Erandwane</td>\n",
       "      <td>0.0</td>\n",
       "      <td>NaN</td>\n",
       "      <td>NaN</td>\n",
       "      <td>NaN</td>\n",
       "      <td>Chinese,Mughlai,Malwani,North Indian,Continental,</td>\n",
       "      <td>2000</td>\n",
       "      <td>Rs. 2000</td>\n",
       "      <td>NaN</td>\n",
       "    </tr>\n",
       "    <tr>\n",
       "      <th>102</th>\n",
       "      <td>The Bar Stock Exchange\\r\\r\\n                  ...</td>\n",
       "      <td>Pub,Casual Dining</td>\n",
       "      <td>FC Road</td>\n",
       "      <td>0.0</td>\n",
       "      <td>NaN</td>\n",
       "      <td>NaN</td>\n",
       "      <td>NaN</td>\n",
       "      <td>Italian,North Indian,Chinese,Continental,</td>\n",
       "      <td>1900</td>\n",
       "      <td>Rs. 1900</td>\n",
       "      <td>NaN</td>\n",
       "    </tr>\n",
       "    <tr>\n",
       "      <th>116</th>\n",
       "      <td>Asia Kitchen By Mainland China\\r\\r\\n          ...</td>\n",
       "      <td>NaN</td>\n",
       "      <td>Senapati Bapat Road</td>\n",
       "      <td>0.0</td>\n",
       "      <td>NaN</td>\n",
       "      <td>NaN</td>\n",
       "      <td>NaN</td>\n",
       "      <td>Chinese,Asian,</td>\n",
       "      <td>1800</td>\n",
       "      <td>Rs. 1800</td>\n",
       "      <td>NaN</td>\n",
       "    </tr>\n",
       "    <tr>\n",
       "      <th>...</th>\n",
       "      <td>...</td>\n",
       "      <td>...</td>\n",
       "      <td>...</td>\n",
       "      <td>...</td>\n",
       "      <td>...</td>\n",
       "      <td>...</td>\n",
       "      <td>...</td>\n",
       "      <td>...</td>\n",
       "      <td>...</td>\n",
       "      <td>...</td>\n",
       "      <td>...</td>\n",
       "    </tr>\n",
       "    <tr>\n",
       "      <th>5312</th>\n",
       "      <td>Super Meal\\r\\n                                ...</td>\n",
       "      <td>NaN</td>\n",
       "      <td>Shivaji Nagar</td>\n",
       "      <td>0.0</td>\n",
       "      <td>NaN</td>\n",
       "      <td>NaN</td>\n",
       "      <td>NaN</td>\n",
       "      <td>Biryani,North Indian,</td>\n",
       "      <td>350</td>\n",
       "      <td>Rs. 350</td>\n",
       "      <td>NaN</td>\n",
       "    </tr>\n",
       "    <tr>\n",
       "      <th>5355</th>\n",
       "      <td>Garawa Biryani\\r\\n                            ...</td>\n",
       "      <td>Quick Bites</td>\n",
       "      <td>Sadashiv Peth</td>\n",
       "      <td>0.0</td>\n",
       "      <td>NaN</td>\n",
       "      <td>NaN</td>\n",
       "      <td>NaN</td>\n",
       "      <td>Biryani,</td>\n",
       "      <td>250</td>\n",
       "      <td>Rs. 250</td>\n",
       "      <td>NaN</td>\n",
       "    </tr>\n",
       "    <tr>\n",
       "      <th>5399</th>\n",
       "      <td>Janta Khanaval\\r\\n                            ...</td>\n",
       "      <td>NaN</td>\n",
       "      <td>Narhe</td>\n",
       "      <td>0.0</td>\n",
       "      <td>NaN</td>\n",
       "      <td>NaN</td>\n",
       "      <td>NaN</td>\n",
       "      <td>Maharashtrian,</td>\n",
       "      <td>300</td>\n",
       "      <td>Rs. 300</td>\n",
       "      <td>NaN</td>\n",
       "    </tr>\n",
       "    <tr>\n",
       "      <th>5400</th>\n",
       "      <td>Taj 24/7\\r\\n</td>\n",
       "      <td>NaN</td>\n",
       "      <td>Kothrud</td>\n",
       "      <td>0.0</td>\n",
       "      <td>NaN</td>\n",
       "      <td>NaN</td>\n",
       "      <td>NaN</td>\n",
       "      <td>Beverages,South Indian,Street Food,</td>\n",
       "      <td>200</td>\n",
       "      <td>Rs. 200</td>\n",
       "      <td>NaN</td>\n",
       "    </tr>\n",
       "    <tr>\n",
       "      <th>5419</th>\n",
       "      <td>Homemade Meal Box - Snigdha\\r\\n               ...</td>\n",
       "      <td>NaN</td>\n",
       "      <td>Kondhwa</td>\n",
       "      <td>0.0</td>\n",
       "      <td>NaN</td>\n",
       "      <td>NaN</td>\n",
       "      <td>NaN</td>\n",
       "      <td>North Indian,</td>\n",
       "      <td>300</td>\n",
       "      <td>Rs. 300</td>\n",
       "      <td>NaN</td>\n",
       "    </tr>\n",
       "  </tbody>\n",
       "</table>\n",
       "<p>566 rows × 11 columns</p>\n",
       "</div>"
      ],
      "text/plain": [
       "                                              rest_name          rest_type  \\\n",
       "36    Zen Bar\\r\\r\\n                                                    Bar   \n",
       "96    The Chinese Restaurant\\r\\r\\n                  ...        Fine Dining   \n",
       "100   Fusion Fantasea\\r\\r\\n                         ...  Bar,Casual Dining   \n",
       "102   The Bar Stock Exchange\\r\\r\\n                  ...  Pub,Casual Dining   \n",
       "116   Asia Kitchen By Mainland China\\r\\r\\n          ...                NaN   \n",
       "...                                                 ...                ...   \n",
       "5312  Super Meal\\r\\n                                ...                NaN   \n",
       "5355  Garawa Biryani\\r\\n                            ...        Quick Bites   \n",
       "5399  Janta Khanaval\\r\\n                            ...                NaN   \n",
       "5400   Taj 24/7\\r\\n                                                    NaN   \n",
       "5419  Homemade Meal Box - Snigdha\\r\\n               ...                NaN   \n",
       "\n",
       "                        loc  dine_rating dine_reviews  delivery_rating  \\\n",
       "36    Hotel Mercure, Lavasa          0.0          NaN              NaN   \n",
       "96                  Mundhwa          0.0          NaN              NaN   \n",
       "100               Erandwane          0.0          NaN              NaN   \n",
       "102                 FC Road          0.0          NaN              NaN   \n",
       "116     Senapati Bapat Road          0.0          NaN              NaN   \n",
       "...                     ...          ...          ...              ...   \n",
       "5312          Shivaji Nagar          0.0          NaN              NaN   \n",
       "5355          Sadashiv Peth          0.0          NaN              NaN   \n",
       "5399                  Narhe          0.0          NaN              NaN   \n",
       "5400                Kothrud          0.0          NaN              NaN   \n",
       "5419                Kondhwa          0.0          NaN              NaN   \n",
       "\n",
       "     delivery_reviews                                            cuisine  \\\n",
       "36                NaN                                       Finger Food,   \n",
       "96                NaN                                 Cantonese,Chinese,   \n",
       "100               NaN  Chinese,Mughlai,Malwani,North Indian,Continental,   \n",
       "102               NaN          Italian,North Indian,Chinese,Continental,   \n",
       "116               NaN                                     Chinese,Asian,   \n",
       "...               ...                                                ...   \n",
       "5312              NaN                              Biryani,North Indian,   \n",
       "5355              NaN                                           Biryani,   \n",
       "5399              NaN                                     Maharashtrian,   \n",
       "5400              NaN                Beverages,South Indian,Street Food,   \n",
       "5419              NaN                                      North Indian,   \n",
       "\n",
       "      Cost (RS)      cost liked  \n",
       "36         2400  Rs. 2400   NaN  \n",
       "96         2000  Rs. 2000   NaN  \n",
       "100        2000  Rs. 2000   NaN  \n",
       "102        1900  Rs. 1900   NaN  \n",
       "116        1800  Rs. 1800   NaN  \n",
       "...         ...       ...   ...  \n",
       "5312        350   Rs. 350   NaN  \n",
       "5355        250   Rs. 250   NaN  \n",
       "5399        300   Rs. 300   NaN  \n",
       "5400        200   Rs. 200   NaN  \n",
       "5419        300   Rs. 300   NaN  \n",
       "\n",
       "[566 rows x 11 columns]"
      ]
     },
     "execution_count": 86,
     "metadata": {},
     "output_type": "execute_result"
    }
   ],
   "source": [
    "#Q3.which are restuarants which got 0 rating the city PUNE?\n",
    "df[df['dine_rating']==0]"
   ]
  },
  {
   "cell_type": "code",
   "execution_count": 87,
   "id": "ca4cb747",
   "metadata": {},
   "outputs": [
    {
     "data": {
      "text/html": [
       "<div>\n",
       "<style scoped>\n",
       "    .dataframe tbody tr th:only-of-type {\n",
       "        vertical-align: middle;\n",
       "    }\n",
       "\n",
       "    .dataframe tbody tr th {\n",
       "        vertical-align: top;\n",
       "    }\n",
       "\n",
       "    .dataframe thead th {\n",
       "        text-align: right;\n",
       "    }\n",
       "</style>\n",
       "<table border=\"1\" class=\"dataframe\">\n",
       "  <thead>\n",
       "    <tr style=\"text-align: right;\">\n",
       "      <th></th>\n",
       "      <th>dine_rating</th>\n",
       "      <th>loc</th>\n",
       "    </tr>\n",
       "  </thead>\n",
       "  <tbody>\n",
       "    <tr>\n",
       "      <th>0</th>\n",
       "      <td>4.2</td>\n",
       "      <td>The Westin, Mundhwa</td>\n",
       "    </tr>\n",
       "    <tr>\n",
       "      <th>1</th>\n",
       "      <td>4.1</td>\n",
       "      <td>The Westin, Mundhwa</td>\n",
       "    </tr>\n",
       "    <tr>\n",
       "      <th>2</th>\n",
       "      <td>4.5</td>\n",
       "      <td>Conrad Pune, Bund Garden Road</td>\n",
       "    </tr>\n",
       "    <tr>\n",
       "      <th>3</th>\n",
       "      <td>4.0</td>\n",
       "      <td>The Westin, Mundhwa</td>\n",
       "    </tr>\n",
       "    <tr>\n",
       "      <th>4</th>\n",
       "      <td>3.9</td>\n",
       "      <td>Vivanta Pune, Hinjewadi</td>\n",
       "    </tr>\n",
       "    <tr>\n",
       "      <th>...</th>\n",
       "      <td>...</td>\n",
       "      <td>...</td>\n",
       "    </tr>\n",
       "    <tr>\n",
       "      <th>5428</th>\n",
       "      <td>3.1</td>\n",
       "      <td>Sinhgad Road</td>\n",
       "    </tr>\n",
       "    <tr>\n",
       "      <th>5429</th>\n",
       "      <td>2.9</td>\n",
       "      <td>Viman Nagar</td>\n",
       "    </tr>\n",
       "    <tr>\n",
       "      <th>5430</th>\n",
       "      <td>3.8</td>\n",
       "      <td>Pimpri</td>\n",
       "    </tr>\n",
       "    <tr>\n",
       "      <th>5431</th>\n",
       "      <td>3.1</td>\n",
       "      <td>Sadashiv Peth</td>\n",
       "    </tr>\n",
       "    <tr>\n",
       "      <th>5432</th>\n",
       "      <td>3.6</td>\n",
       "      <td>B.T. Kawade Road</td>\n",
       "    </tr>\n",
       "  </tbody>\n",
       "</table>\n",
       "<p>5183 rows × 2 columns</p>\n",
       "</div>"
      ],
      "text/plain": [
       "      dine_rating                            loc\n",
       "0             4.2            The Westin, Mundhwa\n",
       "1             4.1            The Westin, Mundhwa\n",
       "2             4.5  Conrad Pune, Bund Garden Road\n",
       "3             4.0            The Westin, Mundhwa\n",
       "4             3.9        Vivanta Pune, Hinjewadi\n",
       "...           ...                            ...\n",
       "5428          3.1                   Sinhgad Road\n",
       "5429          2.9                    Viman Nagar\n",
       "5430          3.8                         Pimpri\n",
       "5431          3.1                  Sadashiv Peth\n",
       "5432          3.6               B.T. Kawade Road\n",
       "\n",
       "[5183 rows x 2 columns]"
      ]
     },
     "execution_count": 87,
     "metadata": {},
     "output_type": "execute_result"
    }
   ],
   "source": [
    "#Q4.Return the location in pune with the best resturants?\n",
    "df_locations=df[['dine_rating','loc']]\n",
    "df_locations"
   ]
  },
  {
   "cell_type": "code",
   "execution_count": 88,
   "id": "036d5ebb",
   "metadata": {},
   "outputs": [
    {
     "data": {
      "text/html": [
       "<div>\n",
       "<style scoped>\n",
       "    .dataframe tbody tr th:only-of-type {\n",
       "        vertical-align: middle;\n",
       "    }\n",
       "\n",
       "    .dataframe tbody tr th {\n",
       "        vertical-align: top;\n",
       "    }\n",
       "\n",
       "    .dataframe thead th {\n",
       "        text-align: right;\n",
       "    }\n",
       "</style>\n",
       "<table border=\"1\" class=\"dataframe\">\n",
       "  <thead>\n",
       "    <tr style=\"text-align: right;\">\n",
       "      <th></th>\n",
       "      <th>dine_rating</th>\n",
       "      <th>loc</th>\n",
       "    </tr>\n",
       "  </thead>\n",
       "  <tbody>\n",
       "    <tr>\n",
       "      <th>2</th>\n",
       "      <td>4.5</td>\n",
       "      <td>Conrad Pune, Bund Garden Road</td>\n",
       "    </tr>\n",
       "    <tr>\n",
       "      <th>5</th>\n",
       "      <td>4.5</td>\n",
       "      <td>Hyatt Pune, Nagar Road</td>\n",
       "    </tr>\n",
       "    <tr>\n",
       "      <th>8</th>\n",
       "      <td>4.5</td>\n",
       "      <td>Sheraton Grand, Bund Garden Road</td>\n",
       "    </tr>\n",
       "    <tr>\n",
       "      <th>18</th>\n",
       "      <td>4.3</td>\n",
       "      <td>The Hyatt Regency, Nagar Road</td>\n",
       "    </tr>\n",
       "    <tr>\n",
       "      <th>21</th>\n",
       "      <td>4.8</td>\n",
       "      <td>JW Marriott Pune, Senapati Bapat Road</td>\n",
       "    </tr>\n",
       "    <tr>\n",
       "      <th>22</th>\n",
       "      <td>4.3</td>\n",
       "      <td>Crowne Plaza Pune City Centre, Bund Garden Road</td>\n",
       "    </tr>\n",
       "    <tr>\n",
       "      <th>25</th>\n",
       "      <td>4.4</td>\n",
       "      <td>JW Marriott Pune, Senapati Bapat Road</td>\n",
       "    </tr>\n",
       "    <tr>\n",
       "      <th>29</th>\n",
       "      <td>4.3</td>\n",
       "      <td>Blue Diamond, Koregaon Park</td>\n",
       "    </tr>\n",
       "    <tr>\n",
       "      <th>38</th>\n",
       "      <td>4.8</td>\n",
       "      <td>Koregaon Park</td>\n",
       "    </tr>\n",
       "    <tr>\n",
       "      <th>39</th>\n",
       "      <td>4.6</td>\n",
       "      <td>Mundhwa</td>\n",
       "    </tr>\n",
       "    <tr>\n",
       "      <th>40</th>\n",
       "      <td>4.3</td>\n",
       "      <td>Vivanta Pune, Hinjewadi</td>\n",
       "    </tr>\n",
       "    <tr>\n",
       "      <th>42</th>\n",
       "      <td>4.5</td>\n",
       "      <td>JW Marriott Pune, Senapati Bapat Road</td>\n",
       "    </tr>\n",
       "    <tr>\n",
       "      <th>43</th>\n",
       "      <td>4.4</td>\n",
       "      <td>East Street</td>\n",
       "    </tr>\n",
       "    <tr>\n",
       "      <th>49</th>\n",
       "      <td>4.9</td>\n",
       "      <td>Koregaon Park</td>\n",
       "    </tr>\n",
       "    <tr>\n",
       "      <th>52</th>\n",
       "      <td>4.4</td>\n",
       "      <td>Marriott Suites Pune</td>\n",
       "    </tr>\n",
       "    <tr>\n",
       "      <th>53</th>\n",
       "      <td>4.4</td>\n",
       "      <td>Della Adventure Resort</td>\n",
       "    </tr>\n",
       "    <tr>\n",
       "      <th>58</th>\n",
       "      <td>4.7</td>\n",
       "      <td>Baner</td>\n",
       "    </tr>\n",
       "    <tr>\n",
       "      <th>61</th>\n",
       "      <td>4.5</td>\n",
       "      <td>Bund Garden Road</td>\n",
       "    </tr>\n",
       "    <tr>\n",
       "      <th>63</th>\n",
       "      <td>4.5</td>\n",
       "      <td>Shivaji Nagar</td>\n",
       "    </tr>\n",
       "    <tr>\n",
       "      <th>65</th>\n",
       "      <td>4.4</td>\n",
       "      <td>ABC Farms,Mundhwa</td>\n",
       "    </tr>\n",
       "  </tbody>\n",
       "</table>\n",
       "</div>"
      ],
      "text/plain": [
       "    dine_rating                                              loc\n",
       "2           4.5                    Conrad Pune, Bund Garden Road\n",
       "5           4.5                           Hyatt Pune, Nagar Road\n",
       "8           4.5                 Sheraton Grand, Bund Garden Road\n",
       "18          4.3                    The Hyatt Regency, Nagar Road\n",
       "21          4.8            JW Marriott Pune, Senapati Bapat Road\n",
       "22          4.3  Crowne Plaza Pune City Centre, Bund Garden Road\n",
       "25          4.4            JW Marriott Pune, Senapati Bapat Road\n",
       "29          4.3                      Blue Diamond, Koregaon Park\n",
       "38          4.8                                    Koregaon Park\n",
       "39          4.6                                          Mundhwa\n",
       "40          4.3                          Vivanta Pune, Hinjewadi\n",
       "42          4.5            JW Marriott Pune, Senapati Bapat Road\n",
       "43          4.4                                      East Street\n",
       "49          4.9                                    Koregaon Park\n",
       "52          4.4                             Marriott Suites Pune\n",
       "53          4.4                           Della Adventure Resort\n",
       "58          4.7                                            Baner\n",
       "61          4.5                                 Bund Garden Road\n",
       "63          4.5                                    Shivaji Nagar\n",
       "65          4.4                                ABC Farms,Mundhwa"
      ]
     },
     "execution_count": 88,
     "metadata": {},
     "output_type": "execute_result"
    }
   ],
   "source": [
    "best_rest=df_locations[df_locations[\"dine_rating\"]>4.2]\n",
    "best_rest.head(20)"
   ]
  },
  {
   "cell_type": "code",
   "execution_count": 89,
   "id": "2f4f3ad3",
   "metadata": {},
   "outputs": [
    {
     "data": {
      "text/plain": [
       "(439, 2)"
      ]
     },
     "execution_count": 89,
     "metadata": {},
     "output_type": "execute_result"
    }
   ],
   "source": [
    "best_rest.shape"
   ]
  },
  {
   "cell_type": "code",
   "execution_count": 90,
   "id": "5a4b8c50",
   "metadata": {},
   "outputs": [
    {
     "name": "stdout",
     "output_type": "stream",
     "text": [
      "<pandas.core.groupby.generic.DataFrameGroupBy object at 0x000001EED854C4C0>\n"
     ]
    }
   ],
   "source": [
    "a=best_rest.groupby(\"loc\")\n",
    "print(a)"
   ]
  },
  {
   "cell_type": "code",
   "execution_count": 91,
   "id": "4a68c47f",
   "metadata": {},
   "outputs": [
    {
     "name": "stdout",
     "output_type": "stream",
     "text": [
      "loc\n",
      "ABC Farms,Mundhwa                 2\n",
      "Akurdi                            1\n",
      "Amanora Town Centre, Hadapsar     4\n",
      "Aundh                            17\n",
      "Balewadi                          3\n",
      "                                 ..\n",
      "Wagholi                           1\n",
      "Wakad                            11\n",
      "Wanowrie                          2\n",
      "Warje                             1\n",
      "Yerawada                          1\n",
      "Length: 91, dtype: int64\n",
      "<class 'pandas.core.series.Series'>\n"
     ]
    }
   ],
   "source": [
    "location_wise_best_Restaurant=a.size()\n",
    "print(location_wise_best_Restaurant)\n",
    "print(type(location_wise_best_Restaurant))"
   ]
  },
  {
   "cell_type": "code",
   "execution_count": 95,
   "id": "a23ab977",
   "metadata": {},
   "outputs": [
    {
     "data": {
      "text/plain": [
       "loc\n",
       "Koregaon Park       47\n",
       "Kothrud             26\n",
       "Baner               25\n",
       "Kalyani Nagar       23\n",
       "Viman Nagar         21\n",
       "Aundh               17\n",
       "Erandwane           15\n",
       "Wakad               11\n",
       "FC Road             10\n",
       "Dhole Patil Road     9\n",
       "dtype: int64"
      ]
     },
     "execution_count": 95,
     "metadata": {},
     "output_type": "execute_result"
    }
   ],
   "source": [
    "location_wise_best_Restaurant.sort_values(ascending=False)[:10]\n"
   ]
  },
  {
   "cell_type": "code",
   "execution_count": 98,
   "id": "bcd351eb",
   "metadata": {},
   "outputs": [
    {
     "data": {
      "text/plain": [
       "loc\n",
       "Koregaon Park       47\n",
       "Kothrud             26\n",
       "Baner               25\n",
       "Kalyani Nagar       23\n",
       "Viman Nagar         21\n",
       "Aundh               17\n",
       "Erandwane           15\n",
       "Wakad               11\n",
       "FC Road             10\n",
       "Dhole Patil Road     9\n",
       "dtype: int64"
      ]
     },
     "execution_count": 98,
     "metadata": {},
     "output_type": "execute_result"
    }
   ],
   "source": [
    "location_wise_best=location_wise_best_Restaurant.sort_values(ascending=False)\n",
    "a=location_wise_best[:10]\n",
    "a"
   ]
  },
  {
   "cell_type": "code",
   "execution_count": 99,
   "id": "95485a7c",
   "metadata": {},
   "outputs": [
    {
     "data": {
      "text/plain": [
       "<AxesSubplot:ylabel='loc'>"
      ]
     },
     "execution_count": 99,
     "metadata": {},
     "output_type": "execute_result"
    },
    {
     "data": {
      "image/png": "[encoded data removed]",
      "text/plain": [
       "<Figure size 432x288 with 1 Axes>"
      ]
     },
     "metadata": {
      "needs_background": "light"
     },
     "output_type": "display_data"
    }
   ],
   "source": [
    "sns.barplot(x=a,y=a.index)"
   ]
  },
  {
   "cell_type": "code",
   "execution_count": 93,
   "id": "f41a6b34",
   "metadata": {},
   "outputs": [
    {
     "name": "stderr",
     "output_type": "stream",
     "text": [
      "C:\\Users\\ADMIN\\anaconda3\\lib\\site-packages\\seaborn\\_decorators.py:36: FutureWarning: Pass the following variables as keyword args: x, y. From version 0.12, the only valid positional argument will be `data`, and passing other arguments without an explicit keyword will result in an error or misinterpretation.\n",
      "  warnings.warn(\n"
     ]
    },
    {
     "data": {
      "text/plain": [
       "<AxesSubplot:ylabel='loc'>"
      ]
     },
     "execution_count": 93,
     "metadata": {},
     "output_type": "execute_result"
    },
    {
     "data": {
      "image/png": "[encoded data removed]",
      "text/plain": [
       "<Figure size 1080x2880 with 1 Axes>"
      ]
     },
     "metadata": {
      "needs_background": "light"
     },
     "output_type": "display_data"
    }
   ],
   "source": [
    "plt.figure(figsize=(15,40))\n",
    "sns.barplot(location_wise_best_Restaurant,location_wise_best_Restaurant.index)"
   ]
  },
  {
   "cell_type": "code",
   "execution_count": 68,
   "id": "d3824c86",
   "metadata": {},
   "outputs": [
    {
     "data": {
      "text/plain": [
       "loc\n",
       " Hotel Satish Executive, Wakad     1\n",
       "ABC Farms,Mundhwa                  2\n",
       "Aditi Mall, Baner Road             5\n",
       "Aditya Shagun Mall, Bavdhan        3\n",
       "Akurdi                            38\n",
       "                                  ..\n",
       "Warje                             34\n",
       "Westend Mall, Aundh               12\n",
       "White Square, Hinjawadi            1\n",
       "Xion Mall, Hinjawadi               1\n",
       "Yerawada                          25\n",
       "Length: 193, dtype: int64"
      ]
     },
     "execution_count": 68,
     "metadata": {},
     "output_type": "execute_result"
    }
   ],
   "source": [
    "#total number of restaurant by location\n",
    "Number_of_location=df[['loc','dine_rating']]\n",
    "a=Number_of_location.groupby('loc')\n",
    "rest_per_location=a.size()\n",
    "rest_per_location"
   ]
  },
  {
   "cell_type": "code",
   "execution_count": 69,
   "id": "5f938db6",
   "metadata": {},
   "outputs": [],
   "source": [
    "rest_per_location=rest_per_location.sort_values(ascending=False)"
   ]
  },
  {
   "cell_type": "code",
   "execution_count": 100,
   "id": "962dcc10",
   "metadata": {},
   "outputs": [
    {
     "data": {
      "text/plain": [
       "loc\n",
       "Kothrud                           264\n",
       "Wakad                             225\n",
       "Viman Nagar                       224\n",
       "Baner                             219\n",
       "Hinjawadi                         213\n",
       "                                 ... \n",
       "Rahul Complex, Kothrud              1\n",
       "Bopkhel                             1\n",
       "St Laurn Hotel, Koregaon Park       1\n",
       "Super Mall                          1\n",
       " Hotel Satish Executive, Wakad      1\n",
       "Length: 193, dtype: int64"
      ]
     },
     "execution_count": 100,
     "metadata": {},
     "output_type": "execute_result"
    }
   ],
   "source": [
    "rest_per_location"
   ]
  },
  {
   "cell_type": "code",
   "execution_count": 101,
   "id": "e5d466f5",
   "metadata": {},
   "outputs": [],
   "source": [
    "#now we want to find\n",
    "#number of rest \n",
    "frames=[rest_per_location,location_wise_best]\n",
    "data_n=pd.concat(\n",
    "    frames,\n",
    "    axis=1,\n",
    "    join=\"inner\",\n",
    "    ignore_index=False,\n",
    "    copy=True,           \n",
    ")"
   ]
  },
  {
   "cell_type": "code",
   "execution_count": 102,
   "id": "d4baa004",
   "metadata": {},
   "outputs": [
    {
     "data": {
      "text/html": [
       "<div>\n",
       "<style scoped>\n",
       "    .dataframe tbody tr th:only-of-type {\n",
       "        vertical-align: middle;\n",
       "    }\n",
       "\n",
       "    .dataframe tbody tr th {\n",
       "        vertical-align: top;\n",
       "    }\n",
       "\n",
       "    .dataframe thead th {\n",
       "        text-align: right;\n",
       "    }\n",
       "</style>\n",
       "<table border=\"1\" class=\"dataframe\">\n",
       "  <thead>\n",
       "    <tr style=\"text-align: right;\">\n",
       "      <th></th>\n",
       "      <th>0</th>\n",
       "      <th>1</th>\n",
       "    </tr>\n",
       "    <tr>\n",
       "      <th>loc</th>\n",
       "      <th></th>\n",
       "      <th></th>\n",
       "    </tr>\n",
       "  </thead>\n",
       "  <tbody>\n",
       "    <tr>\n",
       "      <th>Kothrud</th>\n",
       "      <td>264</td>\n",
       "      <td>26</td>\n",
       "    </tr>\n",
       "    <tr>\n",
       "      <th>Wakad</th>\n",
       "      <td>225</td>\n",
       "      <td>11</td>\n",
       "    </tr>\n",
       "    <tr>\n",
       "      <th>Viman Nagar</th>\n",
       "      <td>224</td>\n",
       "      <td>21</td>\n",
       "    </tr>\n",
       "    <tr>\n",
       "      <th>Baner</th>\n",
       "      <td>219</td>\n",
       "      <td>25</td>\n",
       "    </tr>\n",
       "    <tr>\n",
       "      <th>Hinjawadi</th>\n",
       "      <td>213</td>\n",
       "      <td>7</td>\n",
       "    </tr>\n",
       "    <tr>\n",
       "      <th>...</th>\n",
       "      <td>...</td>\n",
       "      <td>...</td>\n",
       "    </tr>\n",
       "    <tr>\n",
       "      <th>The Mills, Bund Garden Road</th>\n",
       "      <td>1</td>\n",
       "      <td>1</td>\n",
       "    </tr>\n",
       "    <tr>\n",
       "      <th>The E-Square Hotel, Shivaji Nagar</th>\n",
       "      <td>1</td>\n",
       "      <td>1</td>\n",
       "    </tr>\n",
       "    <tr>\n",
       "      <th>Creaticity Mall, Yerawada</th>\n",
       "      <td>1</td>\n",
       "      <td>1</td>\n",
       "    </tr>\n",
       "    <tr>\n",
       "      <th>Panchshil Tech Park, Yerawada</th>\n",
       "      <td>1</td>\n",
       "      <td>1</td>\n",
       "    </tr>\n",
       "    <tr>\n",
       "      <th>Parichay Hotel, FC Road</th>\n",
       "      <td>1</td>\n",
       "      <td>1</td>\n",
       "    </tr>\n",
       "  </tbody>\n",
       "</table>\n",
       "<p>91 rows × 2 columns</p>\n",
       "</div>"
      ],
      "text/plain": [
       "                                     0   1\n",
       "loc                                       \n",
       "Kothrud                            264  26\n",
       "Wakad                              225  11\n",
       "Viman Nagar                        224  21\n",
       "Baner                              219  25\n",
       "Hinjawadi                          213   7\n",
       "...                                ...  ..\n",
       "The Mills, Bund Garden Road          1   1\n",
       "The E-Square Hotel, Shivaji Nagar    1   1\n",
       "Creaticity Mall, Yerawada            1   1\n",
       "Panchshil Tech Park, Yerawada        1   1\n",
       "Parichay Hotel, FC Road              1   1\n",
       "\n",
       "[91 rows x 2 columns]"
      ]
     },
     "execution_count": 102,
     "metadata": {},
     "output_type": "execute_result"
    }
   ],
   "source": [
    "data_n"
   ]
  },
  {
   "cell_type": "code",
   "execution_count": 105,
   "id": "9baabcbb",
   "metadata": {},
   "outputs": [],
   "source": [
    "data_n['popularity_percentage']=list(map(lambda t: (t[1]/t[0])*100,zip(data_n[0],data_n[1])))"
   ]
  },
  {
   "cell_type": "code",
   "execution_count": 106,
   "id": "d0fce405",
   "metadata": {},
   "outputs": [
    {
     "data": {
      "text/html": [
       "<div>\n",
       "<style scoped>\n",
       "    .dataframe tbody tr th:only-of-type {\n",
       "        vertical-align: middle;\n",
       "    }\n",
       "\n",
       "    .dataframe tbody tr th {\n",
       "        vertical-align: top;\n",
       "    }\n",
       "\n",
       "    .dataframe thead th {\n",
       "        text-align: right;\n",
       "    }\n",
       "</style>\n",
       "<table border=\"1\" class=\"dataframe\">\n",
       "  <thead>\n",
       "    <tr style=\"text-align: right;\">\n",
       "      <th></th>\n",
       "      <th>0</th>\n",
       "      <th>1</th>\n",
       "      <th>popularity_percentage</th>\n",
       "    </tr>\n",
       "    <tr>\n",
       "      <th>loc</th>\n",
       "      <th></th>\n",
       "      <th></th>\n",
       "      <th></th>\n",
       "    </tr>\n",
       "  </thead>\n",
       "  <tbody>\n",
       "    <tr>\n",
       "      <th>Kothrud</th>\n",
       "      <td>264</td>\n",
       "      <td>26</td>\n",
       "      <td>9.848485</td>\n",
       "    </tr>\n",
       "    <tr>\n",
       "      <th>Wakad</th>\n",
       "      <td>225</td>\n",
       "      <td>11</td>\n",
       "      <td>4.888889</td>\n",
       "    </tr>\n",
       "    <tr>\n",
       "      <th>Viman Nagar</th>\n",
       "      <td>224</td>\n",
       "      <td>21</td>\n",
       "      <td>9.375000</td>\n",
       "    </tr>\n",
       "    <tr>\n",
       "      <th>Baner</th>\n",
       "      <td>219</td>\n",
       "      <td>25</td>\n",
       "      <td>11.415525</td>\n",
       "    </tr>\n",
       "    <tr>\n",
       "      <th>Hinjawadi</th>\n",
       "      <td>213</td>\n",
       "      <td>7</td>\n",
       "      <td>3.286385</td>\n",
       "    </tr>\n",
       "    <tr>\n",
       "      <th>...</th>\n",
       "      <td>...</td>\n",
       "      <td>...</td>\n",
       "      <td>...</td>\n",
       "    </tr>\n",
       "    <tr>\n",
       "      <th>The Mills, Bund Garden Road</th>\n",
       "      <td>1</td>\n",
       "      <td>1</td>\n",
       "      <td>100.000000</td>\n",
       "    </tr>\n",
       "    <tr>\n",
       "      <th>The E-Square Hotel, Shivaji Nagar</th>\n",
       "      <td>1</td>\n",
       "      <td>1</td>\n",
       "      <td>100.000000</td>\n",
       "    </tr>\n",
       "    <tr>\n",
       "      <th>Creaticity Mall, Yerawada</th>\n",
       "      <td>1</td>\n",
       "      <td>1</td>\n",
       "      <td>100.000000</td>\n",
       "    </tr>\n",
       "    <tr>\n",
       "      <th>Panchshil Tech Park, Yerawada</th>\n",
       "      <td>1</td>\n",
       "      <td>1</td>\n",
       "      <td>100.000000</td>\n",
       "    </tr>\n",
       "    <tr>\n",
       "      <th>Parichay Hotel, FC Road</th>\n",
       "      <td>1</td>\n",
       "      <td>1</td>\n",
       "      <td>100.000000</td>\n",
       "    </tr>\n",
       "  </tbody>\n",
       "</table>\n",
       "<p>91 rows × 3 columns</p>\n",
       "</div>"
      ],
      "text/plain": [
       "                                     0   1  popularity_percentage\n",
       "loc                                                              \n",
       "Kothrud                            264  26               9.848485\n",
       "Wakad                              225  11               4.888889\n",
       "Viman Nagar                        224  21               9.375000\n",
       "Baner                              219  25              11.415525\n",
       "Hinjawadi                          213   7               3.286385\n",
       "...                                ...  ..                    ...\n",
       "The Mills, Bund Garden Road          1   1             100.000000\n",
       "The E-Square Hotel, Shivaji Nagar    1   1             100.000000\n",
       "Creaticity Mall, Yerawada            1   1             100.000000\n",
       "Panchshil Tech Park, Yerawada        1   1             100.000000\n",
       "Parichay Hotel, FC Road              1   1             100.000000\n",
       "\n",
       "[91 rows x 3 columns]"
      ]
     },
     "execution_count": 106,
     "metadata": {},
     "output_type": "execute_result"
    }
   ],
   "source": [
    "data_n"
   ]
  },
  {
   "cell_type": "code",
   "execution_count": 107,
   "id": "8e41153c",
   "metadata": {},
   "outputs": [],
   "source": [
    "data_updated=data_n[data_n[0]>100]"
   ]
  },
  {
   "cell_type": "code",
   "execution_count": 108,
   "id": "02b97d04",
   "metadata": {},
   "outputs": [
    {
     "data": {
      "text/html": [
       "<div>\n",
       "<style scoped>\n",
       "    .dataframe tbody tr th:only-of-type {\n",
       "        vertical-align: middle;\n",
       "    }\n",
       "\n",
       "    .dataframe tbody tr th {\n",
       "        vertical-align: top;\n",
       "    }\n",
       "\n",
       "    .dataframe thead th {\n",
       "        text-align: right;\n",
       "    }\n",
       "</style>\n",
       "<table border=\"1\" class=\"dataframe\">\n",
       "  <thead>\n",
       "    <tr style=\"text-align: right;\">\n",
       "      <th></th>\n",
       "      <th>0</th>\n",
       "      <th>1</th>\n",
       "      <th>popularity_percentage</th>\n",
       "    </tr>\n",
       "    <tr>\n",
       "      <th>loc</th>\n",
       "      <th></th>\n",
       "      <th></th>\n",
       "      <th></th>\n",
       "    </tr>\n",
       "  </thead>\n",
       "  <tbody>\n",
       "    <tr>\n",
       "      <th>Kothrud</th>\n",
       "      <td>264</td>\n",
       "      <td>26</td>\n",
       "      <td>9.848485</td>\n",
       "    </tr>\n",
       "    <tr>\n",
       "      <th>Wakad</th>\n",
       "      <td>225</td>\n",
       "      <td>11</td>\n",
       "      <td>4.888889</td>\n",
       "    </tr>\n",
       "    <tr>\n",
       "      <th>Viman Nagar</th>\n",
       "      <td>224</td>\n",
       "      <td>21</td>\n",
       "      <td>9.375000</td>\n",
       "    </tr>\n",
       "    <tr>\n",
       "      <th>Baner</th>\n",
       "      <td>219</td>\n",
       "      <td>25</td>\n",
       "      <td>11.415525</td>\n",
       "    </tr>\n",
       "    <tr>\n",
       "      <th>Hinjawadi</th>\n",
       "      <td>213</td>\n",
       "      <td>7</td>\n",
       "      <td>3.286385</td>\n",
       "    </tr>\n",
       "    <tr>\n",
       "      <th>Hadapsar</th>\n",
       "      <td>183</td>\n",
       "      <td>3</td>\n",
       "      <td>1.639344</td>\n",
       "    </tr>\n",
       "    <tr>\n",
       "      <th>Kharadi</th>\n",
       "      <td>180</td>\n",
       "      <td>8</td>\n",
       "      <td>4.444444</td>\n",
       "    </tr>\n",
       "    <tr>\n",
       "      <th>Sinhgad Road</th>\n",
       "      <td>142</td>\n",
       "      <td>6</td>\n",
       "      <td>4.225352</td>\n",
       "    </tr>\n",
       "    <tr>\n",
       "      <th>Pimple Saudagar</th>\n",
       "      <td>134</td>\n",
       "      <td>7</td>\n",
       "      <td>5.223881</td>\n",
       "    </tr>\n",
       "    <tr>\n",
       "      <th>Koregaon Park</th>\n",
       "      <td>123</td>\n",
       "      <td>47</td>\n",
       "      <td>38.211382</td>\n",
       "    </tr>\n",
       "    <tr>\n",
       "      <th>Chinchwad</th>\n",
       "      <td>114</td>\n",
       "      <td>2</td>\n",
       "      <td>1.754386</td>\n",
       "    </tr>\n",
       "    <tr>\n",
       "      <th>Aundh</th>\n",
       "      <td>113</td>\n",
       "      <td>17</td>\n",
       "      <td>15.044248</td>\n",
       "    </tr>\n",
       "    <tr>\n",
       "      <th>Kondhwa</th>\n",
       "      <td>104</td>\n",
       "      <td>4</td>\n",
       "      <td>3.846154</td>\n",
       "    </tr>\n",
       "  </tbody>\n",
       "</table>\n",
       "</div>"
      ],
      "text/plain": [
       "                   0   1  popularity_percentage\n",
       "loc                                            \n",
       "Kothrud          264  26               9.848485\n",
       "Wakad            225  11               4.888889\n",
       "Viman Nagar      224  21               9.375000\n",
       "Baner            219  25              11.415525\n",
       "Hinjawadi        213   7               3.286385\n",
       "Hadapsar         183   3               1.639344\n",
       "Kharadi          180   8               4.444444\n",
       "Sinhgad Road     142   6               4.225352\n",
       "Pimple Saudagar  134   7               5.223881\n",
       "Koregaon Park    123  47              38.211382\n",
       "Chinchwad        114   2               1.754386\n",
       "Aundh            113  17              15.044248\n",
       "Kondhwa          104   4               3.846154"
      ]
     },
     "execution_count": 108,
     "metadata": {},
     "output_type": "execute_result"
    }
   ],
   "source": [
    "data_updated"
   ]
  },
  {
   "cell_type": "code",
   "execution_count": 109,
   "id": "2c2a071f",
   "metadata": {},
   "outputs": [],
   "source": [
    "data_updated=data_updated.sort_values(by=\"popularity_percentage\",ascending=False)"
   ]
  },
  {
   "cell_type": "code",
   "execution_count": 110,
   "id": "cabed8b0",
   "metadata": {},
   "outputs": [
    {
     "data": {
      "text/html": [
       "<div>\n",
       "<style scoped>\n",
       "    .dataframe tbody tr th:only-of-type {\n",
       "        vertical-align: middle;\n",
       "    }\n",
       "\n",
       "    .dataframe tbody tr th {\n",
       "        vertical-align: top;\n",
       "    }\n",
       "\n",
       "    .dataframe thead th {\n",
       "        text-align: right;\n",
       "    }\n",
       "</style>\n",
       "<table border=\"1\" class=\"dataframe\">\n",
       "  <thead>\n",
       "    <tr style=\"text-align: right;\">\n",
       "      <th></th>\n",
       "      <th>0</th>\n",
       "      <th>1</th>\n",
       "      <th>popularity_percentage</th>\n",
       "    </tr>\n",
       "    <tr>\n",
       "      <th>loc</th>\n",
       "      <th></th>\n",
       "      <th></th>\n",
       "      <th></th>\n",
       "    </tr>\n",
       "  </thead>\n",
       "  <tbody>\n",
       "    <tr>\n",
       "      <th>Koregaon Park</th>\n",
       "      <td>123</td>\n",
       "      <td>47</td>\n",
       "      <td>38.211382</td>\n",
       "    </tr>\n",
       "    <tr>\n",
       "      <th>Aundh</th>\n",
       "      <td>113</td>\n",
       "      <td>17</td>\n",
       "      <td>15.044248</td>\n",
       "    </tr>\n",
       "    <tr>\n",
       "      <th>Baner</th>\n",
       "      <td>219</td>\n",
       "      <td>25</td>\n",
       "      <td>11.415525</td>\n",
       "    </tr>\n",
       "    <tr>\n",
       "      <th>Kothrud</th>\n",
       "      <td>264</td>\n",
       "      <td>26</td>\n",
       "      <td>9.848485</td>\n",
       "    </tr>\n",
       "    <tr>\n",
       "      <th>Viman Nagar</th>\n",
       "      <td>224</td>\n",
       "      <td>21</td>\n",
       "      <td>9.375000</td>\n",
       "    </tr>\n",
       "    <tr>\n",
       "      <th>Pimple Saudagar</th>\n",
       "      <td>134</td>\n",
       "      <td>7</td>\n",
       "      <td>5.223881</td>\n",
       "    </tr>\n",
       "    <tr>\n",
       "      <th>Wakad</th>\n",
       "      <td>225</td>\n",
       "      <td>11</td>\n",
       "      <td>4.888889</td>\n",
       "    </tr>\n",
       "    <tr>\n",
       "      <th>Kharadi</th>\n",
       "      <td>180</td>\n",
       "      <td>8</td>\n",
       "      <td>4.444444</td>\n",
       "    </tr>\n",
       "    <tr>\n",
       "      <th>Sinhgad Road</th>\n",
       "      <td>142</td>\n",
       "      <td>6</td>\n",
       "      <td>4.225352</td>\n",
       "    </tr>\n",
       "    <tr>\n",
       "      <th>Kondhwa</th>\n",
       "      <td>104</td>\n",
       "      <td>4</td>\n",
       "      <td>3.846154</td>\n",
       "    </tr>\n",
       "    <tr>\n",
       "      <th>Hinjawadi</th>\n",
       "      <td>213</td>\n",
       "      <td>7</td>\n",
       "      <td>3.286385</td>\n",
       "    </tr>\n",
       "    <tr>\n",
       "      <th>Chinchwad</th>\n",
       "      <td>114</td>\n",
       "      <td>2</td>\n",
       "      <td>1.754386</td>\n",
       "    </tr>\n",
       "    <tr>\n",
       "      <th>Hadapsar</th>\n",
       "      <td>183</td>\n",
       "      <td>3</td>\n",
       "      <td>1.639344</td>\n",
       "    </tr>\n",
       "  </tbody>\n",
       "</table>\n",
       "</div>"
      ],
      "text/plain": [
       "                   0   1  popularity_percentage\n",
       "loc                                            \n",
       "Koregaon Park    123  47              38.211382\n",
       "Aundh            113  17              15.044248\n",
       "Baner            219  25              11.415525\n",
       "Kothrud          264  26               9.848485\n",
       "Viman Nagar      224  21               9.375000\n",
       "Pimple Saudagar  134   7               5.223881\n",
       "Wakad            225  11               4.888889\n",
       "Kharadi          180   8               4.444444\n",
       "Sinhgad Road     142   6               4.225352\n",
       "Kondhwa          104   4               3.846154\n",
       "Hinjawadi        213   7               3.286385\n",
       "Chinchwad        114   2               1.754386\n",
       "Hadapsar         183   3               1.639344"
      ]
     },
     "execution_count": 110,
     "metadata": {},
     "output_type": "execute_result"
    }
   ],
   "source": [
    "data_updated"
   ]
  },
  {
   "cell_type": "code",
   "execution_count": 112,
   "id": "211c8280",
   "metadata": {},
   "outputs": [
    {
     "name": "stderr",
     "output_type": "stream",
     "text": [
      "C:\\Users\\ADMIN\\anaconda3\\lib\\site-packages\\seaborn\\_decorators.py:36: FutureWarning: Pass the following variables as keyword args: x, y. From version 0.12, the only valid positional argument will be `data`, and passing other arguments without an explicit keyword will result in an error or misinterpretation.\n",
      "  warnings.warn(\n"
     ]
    },
    {
     "data": {
      "text/plain": [
       "<AxesSubplot:xlabel='popularity_percentage', ylabel='loc'>"
      ]
     },
     "execution_count": 112,
     "metadata": {},
     "output_type": "execute_result"
    },
    {
     "data": {
      "image/png": "[encoded data removed]",
      "text/plain": [
       "<Figure size 432x288 with 1 Axes>"
      ]
     },
     "metadata": {
      "needs_background": "light"
     },
     "output_type": "display_data"
    }
   ],
   "source": [
    "sns.barplot(data_updated['popularity_percentage'],data_updated.index)"
   ]
  },
  {
   "cell_type": "code",
   "execution_count": null,
   "id": "34c365fb",
   "metadata": {},
   "outputs": [],
   "source": []
  }
 ],
 "metadata": {
  "kernelspec": {
   "display_name": "Python 3 (ipykernel)",
   "language": "python",
   "name": "python3"
  },
  "language_info": {
   "codemirror_mode": {
    "name": "ipython",
    "version": 3
   },
   "file_extension": ".py",
   "mimetype": "text/x-python",
   "name": "python",
   "nbconvert_exporter": "python",
   "pygments_lexer": "ipython3",
   "version": "3.9.7"
  }
 },
 "nbformat": 4,
 "nbformat_minor": 5
}
